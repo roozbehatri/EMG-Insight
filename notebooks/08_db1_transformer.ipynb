{
 "cells": [
  {
   "cell_type": "code",
   "execution_count": 1,
   "id": "9ac517a6-5809-4f54-afda-cb4e3f30ceac",
   "metadata": {},
   "outputs": [
    {
     "data": {
      "text/plain": [
       "device(type='cpu')"
      ]
     },
     "execution_count": 1,
     "metadata": {},
     "output_type": "execute_result"
    }
   ],
   "source": [
    "from pathlib import Path\n",
    "import numpy as np\n",
    "import torch\n",
    "from torch import nn\n",
    "from torch.utils.data import Dataset, DataLoader\n",
    "from sklearn.metrics import accuracy_score, f1_score, classification_report, confusion_matrix\n",
    "import matplotlib.pyplot as plt\n",
    "\n",
    "ROOT = Path(\"..\")\n",
    "DATA_PROCESSED = ROOT / \"data\" / \"processed\" / \"db1\"\n",
    "MODELS_DIR     = ROOT / \"models\" / \"db1\"\n",
    "REPORTS_DIR    = ROOT / \"reports\" / \"db1\"\n",
    "for p in [MODELS_DIR, REPORTS_DIR]:\n",
    "    p.mkdir(parents=True, exist_ok=True)\n",
    "\n",
    "DEVICE = torch.device(\"cuda\" if torch.cuda.is_available() else \"cpu\")\n",
    "DEVICE"
   ]
  },
  {
   "cell_type": "code",
   "execution_count": 2,
   "id": "8dfbf3c5-864f-4d93-8cee-daf7b3656f59",
   "metadata": {},
   "outputs": [
    {
     "name": "stdout",
     "output_type": "stream",
     "text": [
      "Train: (312643, 50, 10) Val: (93436, 50, 10) Test: (93476, 50, 10) classes: 23\n",
      "After caps — Train: (9200, 50, 10) Val: (2300, 50, 10) Test: (2300, 50, 10)\n"
     ]
    }
   ],
   "source": [
    "train_npz = DATA_PROCESSED / \"dl_train_db1_raw.npz\"\n",
    "val_npz   = DATA_PROCESSED / \"dl_val_db1_raw.npz\"\n",
    "test_npz  = DATA_PROCESSED / \"dl_test_db1_raw.npz\"\n",
    "\n",
    "ztr = np.load(train_npz, allow_pickle=True)\n",
    "zva = np.load(val_npz,   allow_pickle=True)\n",
    "zte = np.load(test_npz,  allow_pickle=True)\n",
    "\n",
    "Xtr, ytr = ztr[\"X\"], ztr[\"y\"]    # (N, T, C)\n",
    "Xva, yva = zva[\"X\"], zva[\"y\"]\n",
    "Xte, yte = zte[\"X\"], zte[\"y\"]\n",
    "idx_to_label = ztr[\"idx_to_label\"]\n",
    "n_classes = len(idx_to_label)\n",
    "\n",
    "print(\"Train:\", Xtr.shape, \"Val:\", Xva.shape, \"Test:\", Xte.shape, \"classes:\", n_classes)\n",
    "\n",
    "# Optional: keep data small but class-balanced for CPU\n",
    "def stratified_cap(X, y, per_class=200, seed=0):\n",
    "    rng = np.random.default_rng(seed)\n",
    "    keep = []\n",
    "    for c in np.unique(y):\n",
    "        idx = np.where(y == c)[0]\n",
    "        take = min(per_class, len(idx))\n",
    "        if take > 0:\n",
    "            keep.extend(rng.choice(idx, size=take, replace=False))\n",
    "    keep = np.array(keep)\n",
    "    return X[keep], y[keep]\n",
    "\n",
    "Xtr, ytr = stratified_cap(Xtr, ytr, per_class=400, seed=0)\n",
    "Xva, yva = stratified_cap(Xva, yva, per_class=100, seed=1)\n",
    "Xte, yte = stratified_cap(Xte, yte, per_class=100, seed=2)\n",
    "\n",
    "print(\"After caps — Train:\", Xtr.shape, \"Val:\", Xva.shape, \"Test:\", Xte.shape)"
   ]
  },
  {
   "cell_type": "code",
   "execution_count": 3,
   "id": "0dbcd747-7fde-4bc7-8d87-b92e3d46bb36",
   "metadata": {},
   "outputs": [
    {
     "data": {
      "text/plain": [
       "torch.Size([128, 50, 10])"
      ]
     },
     "execution_count": 3,
     "metadata": {},
     "output_type": "execute_result"
    }
   ],
   "source": [
    "class EMGSeqDataset(Dataset):\n",
    "    def __init__(self, X, y):\n",
    "        self.X = X.astype(np.float32)\n",
    "        self.y = y.astype(np.int64)\n",
    "    def __len__(self): return self.X.shape[0]\n",
    "    def __getitem__(self, i):\n",
    "        return torch.from_numpy(self.X[i]), torch.tensor(self.y[i], dtype=torch.long)\n",
    "\n",
    "BATCH_SIZE = 128\n",
    "train_ds = EMGSeqDataset(Xtr, ytr)\n",
    "val_ds   = EMGSeqDataset(Xva, yva)\n",
    "test_ds  = EMGSeqDataset(Xte, yte)\n",
    "\n",
    "train_loader = DataLoader(train_ds, batch_size=BATCH_SIZE, shuffle=True,  num_workers=0)\n",
    "val_loader   = DataLoader(val_ds,   batch_size=BATCH_SIZE, shuffle=False, num_workers=0)\n",
    "test_loader  = DataLoader(test_ds,  batch_size=BATCH_SIZE, shuffle=False, num_workers=0)\n",
    "\n",
    "xb, yb = next(iter(train_loader))\n",
    "xb.shape  # (B, T, C)"
   ]
  },
  {
   "cell_type": "markdown",
   "id": "ee301c86-b72f-48fb-bf78-491121d47086",
   "metadata": {},
   "source": [
    "# Positional encoding utils (sinusoidal) + Transformer model\n",
    "We project channels → d_model, add positional encodings, run a stack of TransformerEncoderLayers, then aggregate over time (CLS token or mean pool)."
   ]
  },
  {
   "cell_type": "code",
   "execution_count": 5,
   "id": "1f38d80b-57c9-4fe9-b3bb-a5cacd988245",
   "metadata": {},
   "outputs": [],
   "source": [
    "import math\n",
    "import torch\n",
    "from torch import nn\n",
    "\n",
    "class SinusoidalPosEnc(nn.Module):\n",
    "    def __init__(self, d_model: int, max_len: int = 2000):\n",
    "        super().__init__()\n",
    "        pe = torch.zeros(max_len, d_model)  # (T, d_model)\n",
    "        position = torch.arange(0, max_len, dtype=torch.float32).unsqueeze(1)\n",
    "        div_term = torch.exp(torch.arange(0, d_model, 2, dtype=torch.float32) * (-math.log(10000.0) / d_model))\n",
    "        pe[:, 0::2] = torch.sin(position * div_term)\n",
    "        pe[:, 1::2] = torch.cos(position * div_term)\n",
    "        self.register_buffer(\"pe\", pe)  # not a parameter\n",
    "\n",
    "    def forward(self, x):  # x: (B, T, d_model)\n",
    "        T = x.size(1)\n",
    "        return x + self.pe[:T].unsqueeze(0)  # broadcast over batch\n",
    "\n",
    "class EMGTransformer(nn.Module):\n",
    "    def __init__(\n",
    "        self,\n",
    "        n_features: int,     # input channels (C)\n",
    "        n_classes: int,\n",
    "        d_model: int = 128,\n",
    "        n_heads: int = 4,\n",
    "        n_layers: int = 3,\n",
    "        dim_ff: int = 256,\n",
    "        dropout: float = 0.2,\n",
    "        use_cls_token: bool = True,\n",
    "        pool: str = \"mean\",  # fallback if not using CLS; options: 'mean', 'max', 'last'\n",
    "        ln_on_input: bool = True,\n",
    "    ):\n",
    "        super().__init__()\n",
    "        self.use_cls = use_cls_token\n",
    "        self.pool = pool\n",
    "\n",
    "        self.proj = nn.Linear(n_features, d_model)\n",
    "        self.in_ln = nn.LayerNorm(d_model) if ln_on_input else nn.Identity()\n",
    "        self.posenc = SinusoidalPosEnc(d_model)\n",
    "\n",
    "        encoder_layer = nn.TransformerEncoderLayer(\n",
    "            d_model=d_model, nhead=n_heads, dim_feedforward=dim_ff,\n",
    "            dropout=dropout, batch_first=True, activation=\"gelu\", norm_first=True\n",
    "        )\n",
    "        self.encoder = nn.TransformerEncoder(encoder_layer, num_layers=n_layers)\n",
    "\n",
    "        if self.use_cls:\n",
    "            self.cls = nn.Parameter(torch.zeros(1, 1, d_model))  # learnable [CLS]\n",
    "            nn.init.trunc_normal_(self.cls, std=0.02)\n",
    "\n",
    "        self.head = nn.Sequential(\n",
    "            nn.LayerNorm(d_model),\n",
    "            nn.Linear(d_model, d_model), nn.GELU(),\n",
    "            nn.Dropout(dropout),\n",
    "            nn.Linear(d_model, n_classes),\n",
    "        )\n",
    "\n",
    "    def forward(self, x):  # x: (B, T, C)\n",
    "        h = self.proj(x)          # (B, T, d_model)\n",
    "        h = self.in_ln(h)\n",
    "        h = self.posenc(h)        # add sinusoidal PE\n",
    "\n",
    "        if self.use_cls:\n",
    "            B = h.size(0)\n",
    "            cls_tok = self.cls.expand(B, -1, -1)  # (B,1,d_model)\n",
    "            h = torch.cat([cls_tok, h], dim=1)    # prepend CLS at t=0\n",
    "\n",
    "        h = self.encoder(h)       # (B, T(+1), d_model)\n",
    "\n",
    "        if self.use_cls:\n",
    "            z = h[:, 0, :]        # CLS\n",
    "        else:\n",
    "            if self.pool == \"mean\":\n",
    "                z = h.mean(dim=1)\n",
    "            elif self.pool == \"max\":\n",
    "                z, _ = h.max(dim=1)\n",
    "            elif self.pool == \"last\":\n",
    "                z = h[:, -1, :]\n",
    "            else:\n",
    "                raise ValueError(\"pool must be one of {'mean','max','last'}\")\n",
    "\n",
    "        return self.head(z)"
   ]
  },
  {
   "cell_type": "code",
   "execution_count": 6,
   "id": "78789280-e377-489d-92e8-a91f574254a1",
   "metadata": {},
   "outputs": [
    {
     "name": "stderr",
     "output_type": "stream",
     "text": [
      "/Users/Roozbeh/Downloads/ENTER/envs/emg/lib/python3.10/site-packages/torch/nn/modules/transformer.py:392: UserWarning: enable_nested_tensor is True, but self.use_nested_tensor is False because encoder_layer.norm_first was True\n",
      "  warnings.warn(\n"
     ]
    }
   ],
   "source": [
    "n_features = Xtr.shape[2]\n",
    "model = EMGTransformer(\n",
    "    n_features=n_features,\n",
    "    n_classes=n_classes,\n",
    "    d_model=128,      # reduce to 96 on very small CPU demos\n",
    "    n_heads=4,        # must divide d_model\n",
    "    n_layers=3,       # 2–4 layers is reasonable\n",
    "    dim_ff=256,\n",
    "    dropout=0.2,\n",
    "    use_cls_token=True,\n",
    "    pool=\"mean\",\n",
    "    ln_on_input=True,\n",
    ").to(DEVICE)\n",
    "\n",
    "# Class weights\n",
    "vals, cnts = np.unique(ytr, return_counts=True)\n",
    "class_count = np.zeros(n_classes, dtype=np.float32)\n",
    "class_count[vals] = cnts\n",
    "weights = 1.0 / (class_count + 1e-6)\n",
    "weights = torch.tensor(weights / weights.mean(), dtype=torch.float32, device=DEVICE)\n",
    "\n",
    "criterion = nn.CrossEntropyLoss(weight=weights)\n",
    "optimizer = torch.optim.AdamW(model.parameters(), lr=1e-3, weight_decay=1e-3)"
   ]
  },
  {
   "cell_type": "code",
   "execution_count": 7,
   "id": "a19da142-185b-487c-86c6-5bef0be835b4",
   "metadata": {},
   "outputs": [],
   "source": [
    "def run_epoch(model, loader, optimizer=None):\n",
    "    train_mode = optimizer is not None\n",
    "    model.train(train_mode)\n",
    "    total_loss, y_true, y_pred = 0.0, [], []\n",
    "    for xb, yb in loader:\n",
    "        xb, yb = xb.to(DEVICE), yb.to(DEVICE)\n",
    "        logits = model(xb)\n",
    "        loss = criterion(logits, yb)\n",
    "\n",
    "        if train_mode:\n",
    "            optimizer.zero_grad(set_to_none=True)\n",
    "            loss.backward()\n",
    "            optimizer.step()\n",
    "\n",
    "        total_loss += loss.item() * xb.size(0)\n",
    "        y_true.append(yb.detach().cpu().numpy())\n",
    "        y_pred.append(logits.argmax(dim=1).detach().cpu().numpy())\n",
    "\n",
    "    y_true = np.concatenate(y_true)\n",
    "    y_pred = np.concatenate(y_pred)\n",
    "    acc = accuracy_score(y_true, y_pred)\n",
    "    f1  = f1_score(y_true, y_pred, average=\"macro\")\n",
    "    return total_loss / len(loader.dataset), acc, f1"
   ]
  },
  {
   "cell_type": "code",
   "execution_count": null,
   "id": "42310ba2-81c1-4d71-a494-295c55c130fb",
   "metadata": {},
   "outputs": [
    {
     "name": "stdout",
     "output_type": "stream",
     "text": [
      "Epoch 01 | train: loss 2.8979 acc 0.130 f1 0.108 | val: loss 2.8091 acc 0.157 f1 0.129\n",
      "Epoch 02 | train: loss 2.7558 acc 0.176 f1 0.153 | val: loss 2.7915 acc 0.157 f1 0.133\n",
      "Epoch 03 | train: loss 2.6956 acc 0.191 f1 0.171 | val: loss 2.7787 acc 0.164 f1 0.139\n",
      "Epoch 04 | train: loss 2.6459 acc 0.202 f1 0.183 | val: loss 2.7574 acc 0.178 f1 0.155\n",
      "Epoch 05 | train: loss 2.6009 acc 0.221 f1 0.203 | val: loss 2.7376 acc 0.202 f1 0.171\n",
      "Epoch 06 | train: loss 2.5520 acc 0.226 f1 0.210 | val: loss 2.7519 acc 0.179 f1 0.164\n",
      "Epoch 07 | train: loss 2.5080 acc 0.239 f1 0.222 | val: loss 2.8192 acc 0.180 f1 0.166\n",
      "Epoch 08 | train: loss 2.4803 acc 0.247 f1 0.231 | val: loss 2.7709 acc 0.190 f1 0.164\n",
      "Epoch 09 | train: loss 2.4422 acc 0.261 f1 0.247 | val: loss 2.8275 acc 0.182 f1 0.166\n"
     ]
    }
   ],
   "source": [
    "EPOCHS = 25\n",
    "PATIENCE = 5\n",
    "best_val_f1, best_state, no_improve = -1.0, None, 0\n",
    "\n",
    "for epoch in range(1, EPOCHS+1):\n",
    "    tr_loss, tr_acc, tr_f1 = run_epoch(model, train_loader, optimizer)\n",
    "    va_loss, va_acc, va_f1 = run_epoch(model, val_loader,   optimizer=None)\n",
    "    print(f\"Epoch {epoch:02d} | train: loss {tr_loss:.4f} acc {tr_acc:.3f} f1 {tr_f1:.3f} | \"\n",
    "          f\"val: loss {va_loss:.4f} acc {va_acc:.3f} f1 {va_f1:.3f}\")\n",
    "\n",
    "    if va_f1 > best_val_f1:\n",
    "        best_val_f1 = va_f1\n",
    "        best_state = {k: v.detach().cpu().clone() for k, v in model.state_dict().items()}\n",
    "        no_improve = 0\n",
    "    else:\n",
    "        no_improve += 1\n",
    "        if no_improve >= PATIENCE:\n",
    "            print(\"Early stopping.\")\n",
    "            break\n",
    "\n",
    "if best_state is not None:\n",
    "    model.load_state_dict(best_state)"
   ]
  },
  {
   "cell_type": "code",
   "execution_count": null,
   "id": "12c94146-549b-423b-bdfd-d57ce732f4ab",
   "metadata": {},
   "outputs": [],
   "source": [
    "te_loss, te_acc, te_f1 = run_epoch(model, test_loader, optimizer=None)\n",
    "print(f\"Test — loss {te_loss:.4f}  acc {te_acc:.3f}  macro-F1 {te_f1:.3f}\")\n",
    "\n",
    "# Full report\n",
    "y_true_all, y_pred_all = [], []\n",
    "model.eval()\n",
    "with torch.no_grad():\n",
    "    for xb, yb in test_loader:\n",
    "        logits = model(xb.to(DEVICE)).cpu().numpy()\n",
    "        y_pred_all.append(np.argmax(logits, axis=1))\n",
    "        y_true_all.append(yb.numpy())\n",
    "y_true_all = np.concatenate(y_true_all)\n",
    "y_pred_all = np.concatenate(y_pred_all)\n",
    "\n",
    "print(classification_report(y_true_all, y_pred_all, zero_division=0))"
   ]
  },
  {
   "cell_type": "code",
   "execution_count": null,
   "id": "2d835963-2548-4044-a25d-a5a031efe649",
   "metadata": {},
   "outputs": [],
   "source": [
    "cm = confusion_matrix(y_true_all, y_pred_all)\n",
    "\n",
    "fig, ax = plt.subplots(figsize=(8,8))\n",
    "im = ax.imshow(cm, interpolation=\"nearest\")\n",
    "ax.set_title(\"Confusion Matrix — Transformer\")\n",
    "ax.set_xlabel(\"Predicted\"); ax.set_ylabel(\"True\")\n",
    "plt.colorbar(im, ax=ax)\n",
    "plt.tight_layout()\n",
    "\n",
    "fig_path = REPORTS_DIR / \"cm_transformer.png\"\n",
    "plt.savefig(fig_path, dpi=150)\n",
    "plt.show()\n",
    "print(\"Saved:\", fig_path)"
   ]
  },
  {
   "cell_type": "code",
   "execution_count": null,
   "id": "3e49a86e-3ae2-4c68-990b-874c1fec330a",
   "metadata": {},
   "outputs": [],
   "source": [
    "ckpt_path = MODELS_DIR / \"transformer_db1.pt\"\n",
    "meta_path = MODELS_DIR / \"transformer_db1_meta.npz\"\n",
    "\n",
    "torch.save(model.state_dict(), ckpt_path)\n",
    "np.savez_compressed(meta_path, n_features=n_features, n_classes=n_classes)\n",
    "\n",
    "print(\"Saved model to:\", ckpt_path)\n",
    "print(\"Saved meta   to:\", meta_path)"
   ]
  },
  {
   "cell_type": "code",
   "execution_count": null,
   "id": "28f23caa-ee09-45f8-8ac3-01a3396f018b",
   "metadata": {},
   "outputs": [],
   "source": []
  }
 ],
 "metadata": {
  "kernelspec": {
   "display_name": "Python 3 (ipykernel)",
   "language": "python",
   "name": "python3"
  },
  "language_info": {
   "codemirror_mode": {
    "name": "ipython",
    "version": 3
   },
   "file_extension": ".py",
   "mimetype": "text/x-python",
   "name": "python",
   "nbconvert_exporter": "python",
   "pygments_lexer": "ipython3",
   "version": "3.10.18"
  }
 },
 "nbformat": 4,
 "nbformat_minor": 5
}
