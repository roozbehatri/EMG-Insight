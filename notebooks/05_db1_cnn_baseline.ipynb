{
 "cells": [
  {
   "cell_type": "code",
   "execution_count": 1,
   "id": "d21e352f-c87c-4bef-a1cd-10dcdba9ce19",
   "metadata": {},
   "outputs": [
    {
     "data": {
      "text/plain": [
       "device(type='cpu')"
      ]
     },
     "execution_count": 1,
     "metadata": {},
     "output_type": "execute_result"
    }
   ],
   "source": [
    "from pathlib import Path\n",
    "import numpy as np\n",
    "import torch\n",
    "from torch import nn\n",
    "from torch.utils.data import Dataset, DataLoader\n",
    "from sklearn.metrics import accuracy_score, f1_score, classification_report, confusion_matrix\n",
    "import matplotlib.pyplot as plt\n",
    "\n",
    "ROOT = Path(\"..\")\n",
    "DATA_PROCESSED = ROOT / \"data\" / \"processed\" / \"db1\"\n",
    "MODELS_DIR     = ROOT / \"models\" / \"db1\"\n",
    "REPORTS_DIR    = ROOT / \"reports\" / \"db1\"\n",
    "for p in [MODELS_DIR, REPORTS_DIR]:\n",
    "    p.mkdir(parents=True, exist_ok=True)\n",
    "\n",
    "DEVICE = torch.device(\"cuda\" if torch.cuda.is_available() else \"cpu\")\n",
    "DEVICE"
   ]
  },
  {
   "cell_type": "code",
   "execution_count": 23,
   "id": "c3baf55c-4f7a-4dea-b56a-dad51472a738",
   "metadata": {},
   "outputs": [
    {
     "name": "stdout",
     "output_type": "stream",
     "text": [
      "Train: (312643, 50, 10) Val: (93436, 50, 10) Test: (93476, 50, 10) classes: 23\n",
      "train classes: 23 min/max per class: 400 400\n",
      "val classes: 23 min/max per class: 100 100\n",
      "test classes: 23 min/max per class: 100 100\n",
      "Train: (9200, 50, 10) Val: (2300, 50, 10) Test: (2300, 50, 10) classes: 23\n"
     ]
    }
   ],
   "source": [
    "# --- Load as before ---\n",
    "train_npz = DATA_PROCESSED / \"dl_train_db1_raw.npz\"\n",
    "val_npz   = DATA_PROCESSED / \"dl_val_db1_raw.npz\"\n",
    "test_npz  = DATA_PROCESSED / \"dl_test_db1_raw.npz\"\n",
    "\n",
    "ztr = np.load(train_npz, allow_pickle=True)\n",
    "zva = np.load(val_npz,   allow_pickle=True)\n",
    "zte = np.load(test_npz,  allow_pickle=True)\n",
    "\n",
    "Xtr, ytr = ztr[\"X\"], ztr[\"y\"]\n",
    "Xva, yva = zva[\"X\"], zva[\"y\"]\n",
    "Xte, yte = zte[\"X\"], zte[\"y\"]\n",
    "idx_to_label = ztr[\"idx_to_label\"]\n",
    "n_classes = len(idx_to_label)\n",
    "print(\"Train:\", Xtr.shape, \"Val:\", Xva.shape, \"Test:\", Xte.shape, \"classes:\", n_classes)\n",
    "\n",
    "# # --- Subsample for CPU demo ---\n",
    "# # choose a fraction or a fixed number per split\n",
    "# N_train, N_val, N_test = 2000, 500, 500   # adjust as needed\n",
    "\n",
    "# rng = np.random.default_rng(seed=0)  # reproducible\n",
    "# train_idx = rng.choice(len(Xtr), size=min(N_train, len(Xtr)), replace=False)\n",
    "# val_idx   = rng.choice(len(Xva), size=min(N_val, len(Xva)), replace=False)\n",
    "# test_idx  = rng.choice(len(Xte), size=min(N_test, len(Xte)), replace=False)\n",
    "\n",
    "# Xtr, ytr = Xtr[train_idx], ytr[train_idx]\n",
    "# Xva, yva = Xva[val_idx], yva[val_idx]\n",
    "# Xte, yte = Xte[test_idx], yte[test_idx]\n",
    "\n",
    "def stratified_cap(X, y, per_class=200, seed=0):\n",
    "    rng = np.random.default_rng(seed)\n",
    "    keep_idx = []\n",
    "    for c in np.unique(y):\n",
    "        idx = np.where(y == c)[0]\n",
    "        if len(idx) == 0: \n",
    "            continue\n",
    "        take = min(per_class, len(idx))\n",
    "        keep_idx.extend(rng.choice(idx, size=take, replace=False))\n",
    "    keep_idx = np.array(keep_idx)\n",
    "    return X[keep_idx], y[keep_idx]\n",
    "\n",
    "# after loading NPZs:\n",
    "Xtr, ytr = stratified_cap(Xtr, ytr, per_class=400, seed=0)\n",
    "Xva, yva = stratified_cap(Xva, yva, per_class=100, seed=1)\n",
    "Xte, yte = stratified_cap(Xte, yte, per_class=100, seed=2)\n",
    "\n",
    "# sanity: show class counts\n",
    "for name, yv in [(\"train\", ytr), (\"val\", yva), (\"test\", yte)]:\n",
    "    vals, cnts = np.unique(yv, return_counts=True)\n",
    "    print(name, \"classes:\", len(vals), \"min/max per class:\", cnts.min(), cnts.max())\n",
    "    \n",
    "\n",
    "print(\"Train:\", Xtr.shape, \"Val:\", Xva.shape, \"Test:\", Xte.shape, \"classes:\", n_classes)"
   ]
  },
  {
   "cell_type": "markdown",
   "id": "f25813c4-073c-4238-a7af-f60ca2f4ef85",
   "metadata": {},
   "source": [
    "# Dataset & DataLoaders\n",
    "Our NPZs are (N, T, C) (time, channels). CNN1D expects (N, C, T), so we’ll permute in __getitem__."
   ]
  },
  {
   "cell_type": "code",
   "execution_count": 24,
   "id": "9f1f92ec-a4c1-48fd-88e7-bdd0a34833d4",
   "metadata": {},
   "outputs": [],
   "source": [
    "# class EMGWindowDataset(Dataset):\n",
    "#     def __init__(self, X, y, channel_first=True):\n",
    "#         self.X = X.astype(np.float32)\n",
    "#         self.y = y.astype(np.int64)\n",
    "#         self.channel_first = channel_first\n",
    "#     def __len__(self): return self.X.shape[0]\n",
    "#     def __getitem__(self, i):\n",
    "#         x = self.X[i]  # (T, C)\n",
    "#         if self.channel_first:\n",
    "#             x = np.transpose(x, (1, 0))  # (C, T)\n",
    "#         return torch.from_numpy(x), torch.tensor(self.y[i], dtype=torch.long)\n",
    "\n",
    "# BATCH_SIZE = 256  # adjust if memory bound\n",
    "# train_ds = EMGWindowDataset(Xtr, ytr, channel_first=True)\n",
    "# val_ds   = EMGWindowDataset(Xva, yva, channel_first=True)\n",
    "# test_ds  = EMGWindowDataset(Xte, yte, channel_first=True)\n",
    "\n",
    "# train_loader = DataLoader(train_ds, batch_size=BATCH_SIZE, shuffle=True, num_workers=2, pin_memory=True)\n",
    "# val_loader   = DataLoader(val_ds,   batch_size=BATCH_SIZE, shuffle=False, num_workers=2, pin_memory=True)\n",
    "# test_loader  = DataLoader(test_ds,  batch_size=BATCH_SIZE, shuffle=False, num_workers=2, pin_memory=True)\n",
    "\n",
    "# next(iter(train_loader))[0].shape  # expect (B, C, T)"
   ]
  },
  {
   "cell_type": "code",
   "execution_count": 25,
   "id": "4f83f652-62fb-41ed-aacf-f87867d5deec",
   "metadata": {},
   "outputs": [
    {
     "data": {
      "text/plain": [
       "torch.Size([128, 10, 50])"
      ]
     },
     "execution_count": 25,
     "metadata": {},
     "output_type": "execute_result"
    }
   ],
   "source": [
    "# 1) Pretranspose once, up-front (N, T, C) -> (N, C, T)\n",
    "Xtr_cf = np.transpose(Xtr, (0, 2, 1)).astype(np.float32, copy=False)\n",
    "Xva_cf = np.transpose(Xva, (0, 2, 1)).astype(np.float32, copy=False)\n",
    "Xte_cf = np.transpose(Xte, (0, 2, 1)).astype(np.float32, copy=False)\n",
    "\n",
    "class EMGWindowDataset(Dataset):\n",
    "    def __init__(self, X_ct, y):        # X_ct: (N, C, T) already channel-first\n",
    "        self.X = X_ct                    # no per-item transpose\n",
    "        self.y = y.astype(np.int64)\n",
    "    def __len__(self): return self.X.shape[0]\n",
    "    def __getitem__(self, i):\n",
    "        return torch.from_numpy(self.X[i]), torch.tensor(self.y[i], dtype=torch.long)\n",
    "\n",
    "# 2) Smaller batch; 3) num_workers=0; 4) pin_memory=False on CPU\n",
    "BATCH_SIZE = 128\n",
    "\n",
    "train_ds = EMGWindowDataset(Xtr_cf, ytr)\n",
    "val_ds   = EMGWindowDataset(Xva_cf, yva)\n",
    "test_ds  = EMGWindowDataset(Xte_cf, yte)\n",
    "\n",
    "train_loader = DataLoader(train_ds, batch_size=BATCH_SIZE, shuffle=True,\n",
    "                          num_workers=0, pin_memory=False)\n",
    "val_loader   = DataLoader(val_ds,   batch_size=BATCH_SIZE, shuffle=False,\n",
    "                          num_workers=0, pin_memory=False)\n",
    "test_loader  = DataLoader(test_ds,  batch_size=BATCH_SIZE, shuffle=False,\n",
    "                          num_workers=0, pin_memory=False)\n",
    "\n",
    "xb, yb = next(iter(train_loader))\n",
    "xb.shape  # (B, C, T)"
   ]
  },
  {
   "cell_type": "markdown",
   "id": "c176c931-a2aa-4c83-b6b9-4c3ca7577e81",
   "metadata": {},
   "source": [
    "# CNN-1D baseline model"
   ]
  },
  {
   "cell_type": "code",
   "execution_count": 26,
   "id": "833c57a0-9495-4b30-aec2-49f3ad51d370",
   "metadata": {},
   "outputs": [
    {
     "data": {
      "text/plain": [
       "318487"
      ]
     },
     "execution_count": 26,
     "metadata": {},
     "output_type": "execute_result"
    }
   ],
   "source": [
    "class CNN1D(nn.Module):\n",
    "    def __init__(self, n_channels, n_classes):\n",
    "        super().__init__()\n",
    "        self.net = nn.Sequential(\n",
    "            # Block 1\n",
    "            nn.Conv1d(n_channels, 64, kernel_size=5, padding=2),\n",
    "            nn.BatchNorm1d(64), nn.ReLU(),\n",
    "            nn.Conv1d(64, 64, kernel_size=5, padding=2),\n",
    "            nn.BatchNorm1d(64), nn.ReLU(),\n",
    "            nn.MaxPool1d(kernel_size=2),  # T/2\n",
    "            nn.Dropout(0.1),\n",
    "\n",
    "            # Block 2\n",
    "            nn.Conv1d(64, 128, kernel_size=5, padding=2),\n",
    "            nn.BatchNorm1d(128), nn.ReLU(),\n",
    "            nn.Conv1d(128, 128, kernel_size=5, padding=2),\n",
    "            nn.BatchNorm1d(128), nn.ReLU(),\n",
    "            nn.MaxPool1d(kernel_size=2),  # T/4\n",
    "            nn.Dropout(0.1),\n",
    "\n",
    "            # Block 3\n",
    "            nn.Conv1d(128, 256, kernel_size=3, padding=1),\n",
    "            nn.BatchNorm1d(256), nn.ReLU(),\n",
    "            nn.Dropout(0.2),\n",
    "        )\n",
    "        self.head = nn.Sequential(\n",
    "            nn.AdaptiveAvgPool1d(1),      # (B, 256, 1)\n",
    "            nn.Flatten(),                 # (B, 256)\n",
    "            nn.Linear(256, 256), nn.ReLU(),\n",
    "            nn.Dropout(0.3),\n",
    "            nn.Linear(256, n_classes),\n",
    "        )\n",
    "\n",
    "    def forward(self, x):  # x: (B, C, T)\n",
    "        h = self.net(x)\n",
    "        return self.head(h)\n",
    "\n",
    "n_channels = Xtr.shape[2]  # (T,C)\n",
    "model = CNN1D(n_channels=n_channels, n_classes=n_classes).to(DEVICE)\n",
    "sum(p.numel() for p in model.parameters())  # param count"
   ]
  },
  {
   "cell_type": "code",
   "execution_count": 27,
   "id": "08a49706-280e-424d-8fa5-9c944d30f073",
   "metadata": {},
   "outputs": [],
   "source": [
    "def run_epoch(model, loader, optimizer=None):\n",
    "    is_train = optimizer is not None\n",
    "    model.train(is_train)\n",
    "    total_loss, y_true, y_pred = 0.0, [], []\n",
    "    ce = nn.CrossEntropyLoss()\n",
    "    for xb, yb in loader:\n",
    "        xb, yb = xb.to(DEVICE), yb.to(DEVICE)\n",
    "        logits = model(xb)\n",
    "        loss = ce(logits, yb)\n",
    "\n",
    "        if is_train:\n",
    "            optimizer.zero_grad(set_to_none=True)\n",
    "            loss.backward()\n",
    "            optimizer.step()\n",
    "\n",
    "        total_loss += loss.item() * xb.size(0)\n",
    "        y_true.append(yb.detach().cpu().numpy())\n",
    "        y_pred.append(logits.argmax(dim=1).detach().cpu().numpy())\n",
    "\n",
    "    y_true = np.concatenate(y_true)\n",
    "    y_pred = np.concatenate(y_pred)\n",
    "    acc = accuracy_score(y_true, y_pred)\n",
    "    f1  = f1_score(y_true, y_pred, average=\"macro\")\n",
    "    return total_loss / len(loader.dataset), acc, f1"
   ]
  },
  {
   "cell_type": "code",
   "execution_count": 28,
   "id": "066b026f-ccaa-4fdd-bf17-b899585f88c8",
   "metadata": {},
   "outputs": [
    {
     "name": "stdout",
     "output_type": "stream",
     "text": [
      "Epoch 01 | train: loss 2.9136 acc 0.128 f1 0.107 | val: loss 2.8743 acc 0.148 f1 0.103\n",
      "Epoch 02 | train: loss 2.7678 acc 0.174 f1 0.152 | val: loss 2.8447 acc 0.156 f1 0.124\n",
      "Epoch 03 | train: loss 2.6923 acc 0.194 f1 0.177 | val: loss 2.8407 acc 0.157 f1 0.138\n",
      "Epoch 04 | train: loss 2.6354 acc 0.211 f1 0.193 | val: loss 2.7697 acc 0.180 f1 0.159\n",
      "Epoch 05 | train: loss 2.5742 acc 0.223 f1 0.205 | val: loss 2.7786 acc 0.194 f1 0.169\n",
      "Epoch 06 | train: loss 2.5328 acc 0.239 f1 0.222 | val: loss 2.7432 acc 0.190 f1 0.177\n",
      "Epoch 07 | train: loss 2.4981 acc 0.250 f1 0.234 | val: loss 2.7239 acc 0.204 f1 0.184\n",
      "Epoch 08 | train: loss 2.4594 acc 0.257 f1 0.241 | val: loss 2.7580 acc 0.187 f1 0.168\n",
      "Epoch 09 | train: loss 2.4397 acc 0.268 f1 0.252 | val: loss 2.7054 acc 0.208 f1 0.179\n",
      "Epoch 10 | train: loss 2.3914 acc 0.275 f1 0.261 | val: loss 2.7672 acc 0.178 f1 0.158\n",
      "Epoch 11 | train: loss 2.3537 acc 0.290 f1 0.275 | val: loss 2.7190 acc 0.199 f1 0.176\n",
      "Epoch 12 | train: loss 2.3184 acc 0.300 f1 0.285 | val: loss 2.7737 acc 0.196 f1 0.182\n",
      "Early stopping.\n"
     ]
    }
   ],
   "source": [
    "LR = 1e-3\n",
    "EPOCHS = 30\n",
    "PATIENCE = 5\n",
    "\n",
    "optimizer = torch.optim.Adam(model.parameters(), lr=LR)\n",
    "best_val_f1 = -1.0\n",
    "best_state = None\n",
    "hist = []\n",
    "\n",
    "for epoch in range(1, EPOCHS+1):\n",
    "    tr_loss, tr_acc, tr_f1 = run_epoch(model, train_loader, optimizer)\n",
    "    va_loss, va_acc, va_f1 = run_epoch(model, val_loader, optimizer=None)\n",
    "    hist.append((epoch, tr_loss, tr_acc, tr_f1, va_loss, va_acc, va_f1))\n",
    "    print(f\"Epoch {epoch:02d} | \"\n",
    "          f\"train: loss {tr_loss:.4f} acc {tr_acc:.3f} f1 {tr_f1:.3f} | \"\n",
    "          f\"val: loss {va_loss:.4f} acc {va_acc:.3f} f1 {va_f1:.3f}\")\n",
    "\n",
    "    if va_f1 > best_val_f1:\n",
    "        best_val_f1 = va_f1\n",
    "        best_state = {k: v.cpu().clone() for k, v in model.state_dict().items()}\n",
    "        no_improve = 0\n",
    "    else:\n",
    "        no_improve += 1\n",
    "        if no_improve >= PATIENCE:\n",
    "            print(\"Early stopping.\")\n",
    "            break\n",
    "\n",
    "# restore best\n",
    "if best_state is not None:\n",
    "    model.load_state_dict(best_state)"
   ]
  },
  {
   "cell_type": "code",
   "execution_count": 29,
   "id": "3fb8870c-fb89-4745-b82b-be6ed98823a0",
   "metadata": {},
   "outputs": [
    {
     "name": "stdout",
     "output_type": "stream",
     "text": [
      "Test — loss 2.7720  acc 0.191  macro-F1 0.170\n",
      "              precision    recall  f1-score   support\n",
      "\n",
      "           0       0.06      0.02      0.03       100\n",
      "           1       0.26      0.28      0.27       100\n",
      "           2       0.09      0.11      0.10       100\n",
      "           3       0.27      0.07      0.11       100\n",
      "           4       0.32      0.16      0.21       100\n",
      "           5       0.27      0.03      0.05       100\n",
      "           6       0.23      0.19      0.21       100\n",
      "           7       0.10      0.10      0.10       100\n",
      "           8       0.15      0.06      0.09       100\n",
      "           9       0.13      0.10      0.11       100\n",
      "          10       0.20      0.11      0.14       100\n",
      "          11       0.06      0.03      0.04       100\n",
      "          12       0.29      0.11      0.16       100\n",
      "          13       0.23      0.08      0.12       100\n",
      "          14       0.19      0.17      0.18       100\n",
      "          15       0.14      0.17      0.15       100\n",
      "          16       0.15      0.25      0.19       100\n",
      "          17       0.18      0.57      0.27       100\n",
      "          18       0.16      0.18      0.17       100\n",
      "          19       0.24      0.53      0.33       100\n",
      "          20       0.21      0.46      0.29       100\n",
      "          21       0.36      0.31      0.33       100\n",
      "          22       0.21      0.31      0.25       100\n",
      "\n",
      "    accuracy                           0.19      2300\n",
      "   macro avg       0.20      0.19      0.17      2300\n",
      "weighted avg       0.20      0.19      0.17      2300\n",
      "\n"
     ]
    }
   ],
   "source": [
    "te_loss, te_acc, te_f1 = run_epoch(model, test_loader, optimizer=None)\n",
    "print(f\"Test — loss {te_loss:.4f}  acc {te_acc:.3f}  macro-F1 {te_f1:.3f}\")\n",
    "\n",
    "y_true_all, y_pred_all = [], []\n",
    "model.eval()\n",
    "with torch.no_grad():\n",
    "    for xb, yb in test_loader:\n",
    "        xb = xb.to(DEVICE)\n",
    "        logits = model(xb).cpu().numpy()\n",
    "        y_pred_all.append(np.argmax(logits, axis=1))\n",
    "        y_true_all.append(yb.numpy())\n",
    "y_true_all = np.concatenate(y_true_all)\n",
    "y_pred_all = np.concatenate(y_pred_all)\n",
    "\n",
    "print(classification_report(y_true_all, y_pred_all, zero_division=0))"
   ]
  },
  {
   "cell_type": "code",
   "execution_count": 30,
   "id": "b4931cb1-0e27-4483-93e3-508153a64557",
   "metadata": {},
   "outputs": [
    {
     "data": {
      "image/png": "[encoded data removed]",
      "text/plain": [
       "<Figure size 800x800 with 2 Axes>"
      ]
     },
     "metadata": {},
     "output_type": "display_data"
    },
    {
     "name": "stdout",
     "output_type": "stream",
     "text": [
      "Saved: ../reports/db1/cm_cnn1d.png\n"
     ]
    }
   ],
   "source": [
    "from sklearn.metrics import confusion_matrix\n",
    "cm = confusion_matrix(y_true_all, y_pred_all)\n",
    "\n",
    "fig, ax = plt.subplots(figsize=(8,8))\n",
    "im = ax.imshow(cm, interpolation=\"nearest\")\n",
    "ax.set_title(\"Confusion Matrix — CNN1D\")\n",
    "ax.set_xlabel(\"Predicted\"); ax.set_ylabel(\"True\")\n",
    "plt.colorbar(im, ax=ax)\n",
    "plt.tight_layout()\n",
    "\n",
    "fig_path = REPORTS_DIR / \"cm_cnn1d.png\"\n",
    "plt.savefig(fig_path, dpi=150)\n",
    "plt.show()\n",
    "print(\"Saved:\", fig_path)"
   ]
  },
  {
   "cell_type": "code",
   "execution_count": 31,
   "id": "7a8211b8-61c1-4664-8dd1-a026a9b1802e",
   "metadata": {},
   "outputs": [
    {
     "name": "stdout",
     "output_type": "stream",
     "text": [
      "Saved model to: ../models/db1/cnn1d_db1.pt\n",
      "Saved meta   to: ../models/db1/cnn1d_db1_meta.npz\n"
     ]
    }
   ],
   "source": [
    "ckpt_path = MODELS_DIR / \"cnn1d_db1.pt\"\n",
    "meta_path = MODELS_DIR / \"cnn1d_db1_meta.npz\"\n",
    "\n",
    "torch.save(model.state_dict(), ckpt_path)\n",
    "np.savez_compressed(meta_path, n_channels=n_channels, n_classes=n_classes)\n",
    "\n",
    "print(\"Saved model to:\", ckpt_path)\n",
    "print(\"Saved meta   to:\", meta_path)"
   ]
  },
  {
   "cell_type": "code",
   "execution_count": 33,
   "id": "74f4e551-e396-4824-8336-3c848141fb5d",
   "metadata": {},
   "outputs": [
    {
     "name": "stdout",
     "output_type": "stream",
     "text": [
      "pred idx: 22  true: 0\n"
     ]
    }
   ],
   "source": [
    "def predict_logits(x_np):  # x_np: (T,C)\n",
    "    x = torch.from_numpy(np.transpose(x_np.astype(np.float32), (1,0))).unsqueeze(0).to(DEVICE)  # (1,C,T)\n",
    "    with torch.no_grad():\n",
    "        logits = model(x).cpu().numpy()[0]\n",
    "    return logits\n",
    "\n",
    "# demo with one test sample\n",
    "log = predict_logits(Xte[1])\n",
    "pred = log.argmax()\n",
    "print(\"pred idx:\", pred, \" true:\", yte[0])"
   ]
  },
  {
   "cell_type": "code",
   "execution_count": null,
   "id": "6482ad79-f1eb-4a93-aafb-b213d16e21a1",
   "metadata": {},
   "outputs": [],
   "source": []
  }
 ],
 "metadata": {
  "kernelspec": {
   "display_name": "Python 3 (ipykernel)",
   "language": "python",
   "name": "python3"
  },
  "language_info": {
   "codemirror_mode": {
    "name": "ipython",
    "version": 3
   },
   "file_extension": ".py",
   "mimetype": "text/x-python",
   "name": "python",
   "nbconvert_exporter": "python",
   "pygments_lexer": "ipython3",
   "version": "3.10.18"
  }
 },
 "nbformat": 4,
 "nbformat_minor": 5
}
