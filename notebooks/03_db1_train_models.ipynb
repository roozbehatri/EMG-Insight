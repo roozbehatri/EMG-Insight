{
 "cells": [
  {
   "cell_type": "code",
   "execution_count": 1,
   "id": "672902ea-42b0-42b7-abb7-b0df46d451fa",
   "metadata": {},
   "outputs": [],
   "source": [
    "from pathlib import Path\n",
    "import numpy as np\n",
    "import matplotlib.pyplot as plt\n",
    "\n",
    "from sklearn.model_selection import train_test_split\n",
    "from sklearn.preprocessing import StandardScaler\n",
    "from sklearn.pipeline import Pipeline\n",
    "from sklearn.linear_model import LogisticRegression\n",
    "from sklearn.svm import SVC\n",
    "from sklearn.ensemble import RandomForestClassifier\n",
    "from sklearn.metrics import accuracy_score, f1_score, classification_report, confusion_matrix\n",
    "from joblib import dump\n",
    "\n",
    "# project paths\n",
    "ROOT = Path(\"..\")\n",
    "DATA_PROCESSED = ROOT / \"data\" / \"processed\" / \"db1\"\n",
    "DATA_OUTPUTS   = ROOT / \"data\" / \"outputs\" / \"db1\"\n",
    "MODELS_DIR     = ROOT / \"models\" / \"db1\"\n",
    "REPORTS_DIR    = ROOT / \"reports\" / \"db1\"\n",
    "\n",
    "for p in [DATA_OUTPUTS, MODELS_DIR, REPORTS_DIR]:\n",
    "    p.mkdir(parents=True, exist_ok=True)"
   ]
  },
  {
   "cell_type": "code",
   "execution_count": 2,
   "id": "13294240-c01c-4726-8c58-2249830b277b",
   "metadata": {},
   "outputs": [
    {
     "name": "stdout",
     "output_type": "stream",
     "text": [
      "X shape: (1105889, 190)\n",
      "y shape: (1105889,)\n",
      "classes: [ 1  2  3  4  5  6  7  8  9 10] … total: 23\n"
     ]
    }
   ],
   "source": [
    "# Expected files from your previous notebook:\n",
    "#   data/processed/db1/X_feat_db1.npy\n",
    "#   data/processed/db1/y_db1.npy\n",
    "X = np.load(DATA_PROCESSED / \"X_feat_db1.npy\")\n",
    "y = np.load(DATA_PROCESSED / \"y_db1.npy\")\n",
    "\n",
    "print(\"X shape:\", X.shape)  # (n_samples, n_features)\n",
    "print(\"y shape:\", y.shape)  # (n_samples,)\n",
    "print(\"classes:\", np.unique(y)[:10], \"… total:\", len(np.unique(y)))"
   ]
  },
  {
   "cell_type": "code",
   "execution_count": 3,
   "id": "a3fe4aea-7d9b-4cba-b00d-bab06eacc721",
   "metadata": {},
   "outputs": [
    {
     "name": "stdout",
     "output_type": "stream",
     "text": [
      "No subjects array found; using random sample split.\n"
     ]
    }
   ],
   "source": [
    "SUBJECTS_PATH = DATA_PROCESSED / \"subjects_db1.npy\"\n",
    "if SUBJECTS_PATH.exists():\n",
    "    subjects = np.load(SUBJECTS_PATH)\n",
    "    print(\"subjects shape:\", subjects.shape, \"unique:\", np.unique(subjects))\n",
    "else:\n",
    "    subjects = None\n",
    "    print(\"No subjects array found; using random sample split.\")"
   ]
  },
  {
   "cell_type": "code",
   "execution_count": 4,
   "id": "e53d8676-5972-4ad0-a8c7-7cdb5eb47967",
   "metadata": {},
   "outputs": [
    {
     "data": {
      "text/plain": [
       "((829416, 190), (276473, 190), (829416,), (276473,))"
      ]
     },
     "execution_count": 4,
     "metadata": {},
     "output_type": "execute_result"
    }
   ],
   "source": [
    "Xtr, Xte, ytr, yte = train_test_split(\n",
    "    X, y, test_size=0.25, stratify=y, random_state=0\n",
    ")\n",
    "Xtr.shape, Xte.shape, ytr.shape, yte.shape"
   ]
  },
  {
   "cell_type": "code",
   "execution_count": null,
   "id": "d47c9d87-6055-4f29-b242-08896edfbf29",
   "metadata": {},
   "outputs": [],
   "source": []
  }
 ],
 "metadata": {
  "kernelspec": {
   "display_name": "Python 3 (ipykernel)",
   "language": "python",
   "name": "python3"
  },
  "language_info": {
   "codemirror_mode": {
    "name": "ipython",
    "version": 3
   },
   "file_extension": ".py",
   "mimetype": "text/x-python",
   "name": "python",
   "nbconvert_exporter": "python",
   "pygments_lexer": "ipython3",
   "version": "3.10.18"
  }
 },
 "nbformat": 4,
 "nbformat_minor": 5
}
