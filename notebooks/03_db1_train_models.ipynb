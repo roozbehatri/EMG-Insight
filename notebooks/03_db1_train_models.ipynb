{
 "cells": [
  {
   "cell_type": "code",
   "execution_count": 1,
   "id": "672902ea-42b0-42b7-abb7-b0df46d451fa",
   "metadata": {},
   "outputs": [],
   "source": [
    "from pathlib import Path\n",
    "import numpy as np\n",
    "import matplotlib.pyplot as plt\n",
    "\n",
    "from sklearn.model_selection import train_test_split, GroupKFold\n",
    "from sklearn.preprocessing import StandardScaler\n",
    "from sklearn.pipeline import Pipeline\n",
    "from sklearn.linear_model import LogisticRegression\n",
    "from sklearn.svm import SVC\n",
    "from sklearn.ensemble import RandomForestClassifier\n",
    "from sklearn.metrics import accuracy_score, f1_score, classification_report, confusion_matrix\n",
    "from joblib import dump\n",
    "\n",
    "# project paths\n",
    "ROOT = Path(\"..\")\n",
    "DATA_PROCESSED = ROOT / \"data\" / \"processed\" / \"db1\"\n",
    "DATA_OUTPUTS   = ROOT / \"data\" / \"outputs\"  / \"db1\"\n",
    "MODELS_DIR     = ROOT / \"models\" / \"db1\"\n",
    "REPORTS_DIR    = ROOT / \"reports\" / \"db1\"\n",
    "\n",
    "for p in [DATA_OUTPUTS, MODELS_DIR, REPORTS_DIR]:\n",
    "    p.mkdir(parents=True, exist_ok=True)\n",
    "\n",
    "np.random.seed(0)"
   ]
  },
  {
   "cell_type": "markdown",
   "id": "0cc2461f-731d-4724-a68c-841f0c2a33d1",
   "metadata": {},
   "source": [
    "# Load features (and subjects if present)"
   ]
  },
  {
   "cell_type": "code",
   "execution_count": 2,
   "id": "13294240-c01c-4726-8c58-2249830b277b",
   "metadata": {},
   "outputs": [
    {
     "name": "stdout",
     "output_type": "stream",
     "text": [
      "X: (1105889, 190)  y: (1105889,)\n",
      "subjects: (1105889,)  unique: 27\n"
     ]
    }
   ],
   "source": [
    "X = np.load(DATA_PROCESSED / \"X_feat_db1.npy\")\n",
    "y = np.load(DATA_PROCESSED / \"y_db1.npy\")\n",
    "\n",
    "# optional subject ids (created in your featureization step)\n",
    "SUBJECTS_PATH = DATA_PROCESSED / \"subjects_db1.npy\"\n",
    "subjects = np.load(SUBJECTS_PATH) if SUBJECTS_PATH.exists() else None\n",
    "\n",
    "print(\"X:\", X.shape, \" y:\", y.shape)\n",
    "if subjects is not None:\n",
    "    print(\"subjects:\", subjects.shape, \" unique:\", np.unique(subjects).size)\n",
    "else:\n",
    "    print(\"subjects: not found (using random sample split)\")"
   ]
  },
  {
   "cell_type": "code",
   "execution_count": 3,
   "id": "a3fe4aea-7d9b-4cba-b00d-bab06eacc721",
   "metadata": {},
   "outputs": [
    {
     "name": "stdout",
     "output_type": "stream",
     "text": [
      "subjects shape: (1105889,) unique: [ 1  2  3  4  5  6  7  8  9 10 11 12 13 14 15 16 17 18 19 20 21 22 23 24\n",
      " 25 26 27]\n"
     ]
    }
   ],
   "source": [
    "SUBJECTS_PATH = DATA_PROCESSED / \"subjects_db1.npy\"\n",
    "if SUBJECTS_PATH.exists():\n",
    "    subjects = np.load(SUBJECTS_PATH)\n",
    "    print(\"subjects shape:\", subjects.shape, \"unique:\", np.unique(subjects))\n",
    "else:\n",
    "    subjects = None\n",
    "    print(\"No subjects array found; using random sample split.\")"
   ]
  },
  {
   "cell_type": "code",
   "execution_count": 4,
   "id": "e53d8676-5972-4ad0-a8c7-7cdb5eb47967",
   "metadata": {},
   "outputs": [
    {
     "name": "stdout",
     "output_type": "stream",
     "text": [
      "Train subjects: [np.int32(1), np.int32(2), np.int32(3), np.int32(4), np.int32(5), np.int32(6), np.int32(7), np.int32(8), np.int32(9), np.int32(10), np.int32(11), np.int32(12), np.int32(13), np.int32(14), np.int32(15), np.int32(16), np.int32(17), np.int32(18), np.int32(19), np.int32(20), np.int32(21), np.int32(22), np.int32(23), np.int32(24), np.int32(25)]\n",
      "Test subjects : [np.int32(26), np.int32(27)]\n",
      "Train: (1023969, 190)  Test: (81920, 190)\n"
     ]
    }
   ],
   "source": [
    "if subjects is not None:\n",
    "    unique_subj = sorted(np.unique(subjects))\n",
    "    # example: last 2 subjects for test\n",
    "    test_subjects  = set(unique_subj[-2:])\n",
    "    train_subjects = set(unique_subj[:-2])\n",
    "    print(\"Train subjects:\", sorted(train_subjects))\n",
    "    print(\"Test subjects :\", sorted(test_subjects))\n",
    "\n",
    "    tr_idx = np.isin(subjects, list(train_subjects))\n",
    "    te_idx = np.isin(subjects, list(test_subjects))\n",
    "    Xtr, Xte, ytr, yte = X[tr_idx], X[te_idx], y[tr_idx], y[te_idx]\n",
    "    print(\"Train:\", Xtr.shape, \" Test:\", Xte.shape)\n",
    "else:\n",
    "    Xtr, Xte, ytr, yte = train_test_split(\n",
    "        X, y, test_size=0.25, stratify=y, random_state=0\n",
    "    )\n",
    "    print(\"Train:\", Xtr.shape, \" Test:\", Xte.shape)"
   ]
  },
  {
   "cell_type": "code",
   "execution_count": 5,
   "id": "e1772b5b-a2b9-4970-98b3-fdef39cbaa06",
   "metadata": {},
   "outputs": [
    {
     "name": "stdout",
     "output_type": "stream",
     "text": [
      "Train: (50000, 190)  Test: (81920, 190)\n"
     ]
    }
   ],
   "source": [
    "# resample to make it faster\n",
    "from sklearn.utils import resample\n",
    "Xtr, ytr = resample(Xtr, ytr, n_samples=50000, stratify=ytr, random_state=0)\n",
    "print(\"Train:\", Xtr.shape, \" Test:\", Xte.shape)"
   ]
  },
  {
   "cell_type": "markdown",
   "id": "492cae16-fc36-408a-b538-eb2d70811584",
   "metadata": {},
   "source": [
    "# Define candidate models"
   ]
  },
  {
   "cell_type": "code",
   "execution_count": 6,
   "id": "d47c9d87-6055-4f29-b242-08896edfbf29",
   "metadata": {},
   "outputs": [
    {
     "data": {
      "text/plain": [
       "{'LogReg': Pipeline(steps=[('scaler', StandardScaler()),\n",
       "                 ('clf',\n",
       "                  LogisticRegression(class_weight='balanced', max_iter=500,\n",
       "                                     n_jobs=-1))]),\n",
       " 'LinearSVM': Pipeline(steps=[('scaler', StandardScaler()),\n",
       "                 ('clf',\n",
       "                  LinearSVC(class_weight='balanced', dual=False,\n",
       "                            max_iter=5000))]),\n",
       " 'SGD-SVM': Pipeline(steps=[('scaler', StandardScaler()),\n",
       "                 ('clf',\n",
       "                  SGDClassifier(class_weight='balanced', max_iter=2000,\n",
       "                                n_jobs=-1))]),\n",
       " 'RandomForest': RandomForestClassifier(class_weight='balanced', n_estimators=300, n_jobs=-1,\n",
       "                        random_state=0)}"
      ]
     },
     "execution_count": 6,
     "metadata": {},
     "output_type": "execute_result"
    }
   ],
   "source": [
    "from sklearn.linear_model import LogisticRegression, SGDClassifier\n",
    "from sklearn.svm import LinearSVC\n",
    "from sklearn.ensemble import RandomForestClassifier\n",
    "from sklearn.preprocessing import StandardScaler\n",
    "from sklearn.pipeline import Pipeline\n",
    "\n",
    "models = {\n",
    "    # Logistic Regression (good baseline, works well with lots of data)\n",
    "    \"LogReg\": Pipeline([\n",
    "        (\"scaler\", StandardScaler()),\n",
    "        (\"clf\", LogisticRegression(\n",
    "            max_iter=500,\n",
    "            n_jobs=-1,                # parallelize across CPU cores\n",
    "            class_weight=\"balanced\"   # optional: handle class imbalance\n",
    "        ))\n",
    "    ]),\n",
    "\n",
    "    # Linear SVM (much faster than RBF SVM, works well on large datasets)\n",
    "    \"LinearSVM\": Pipeline([\n",
    "        (\"scaler\", StandardScaler()),\n",
    "        (\"clf\", LinearSVC(\n",
    "            max_iter=5000,\n",
    "            dual=False,              # faster when n_samples > n_features\n",
    "            class_weight=\"balanced\"  # optional\n",
    "        ))\n",
    "    ]),\n",
    "\n",
    "    # SGDClassifier with hinge loss (approximate linear SVM, even more scalable)\n",
    "    \"SGD-SVM\": Pipeline([\n",
    "        (\"scaler\", StandardScaler()),\n",
    "        (\"clf\", SGDClassifier(\n",
    "            loss=\"hinge\",            # linear SVM\n",
    "            max_iter=2000,\n",
    "            tol=1e-3,\n",
    "            n_jobs=-1,\n",
    "            class_weight=\"balanced\"  # optional\n",
    "        ))\n",
    "    ]),\n",
    "\n",
    "    # Random Forest (handles non-linearities well, efficient in parallel)\n",
    "    \"RandomForest\": RandomForestClassifier(\n",
    "        n_estimators=300,\n",
    "        n_jobs=-1,\n",
    "        random_state=0,\n",
    "        class_weight=\"balanced\"      # optional\n",
    "    ),\n",
    "}\n",
    "\n",
    "models"
   ]
  },
  {
   "cell_type": "markdown",
   "id": "55800f95-2958-4123-bc0e-c8f48138f3dc",
   "metadata": {},
   "source": [
    "# Train, evaluate, pick best"
   ]
  },
  {
   "cell_type": "code",
   "execution_count": 7,
   "id": "6d4505e4-cfad-4b93-9bdd-859286081576",
   "metadata": {},
   "outputs": [
    {
     "name": "stdout",
     "output_type": "stream",
     "text": [
      "LogReg     — acc: 0.135  f1: 0.137\n",
      "LinearSVM  — acc: 0.118  f1: 0.116\n",
      "SGD-SVM    — acc: 0.084  f1: 0.075\n",
      "RandomForest — acc: 0.162  f1: 0.166\n",
      "\n",
      "Best: RandomForest F1: 0.1661\n"
     ]
    }
   ],
   "source": [
    "best_name, best_model, best_f1 = None, None, -1.0\n",
    "results = []\n",
    "\n",
    "for name, model in models.items():\n",
    "    model.fit(Xtr, ytr)\n",
    "    pred = model.predict(Xte)\n",
    "    acc = accuracy_score(yte, pred)\n",
    "    f1  = f1_score(yte, pred, average=\"macro\")\n",
    "    results.append((name, acc, f1))\n",
    "    print(f\"{name:10s} — acc: {acc:.3f}  f1: {f1:.3f}\")\n",
    "    if f1 > best_f1:\n",
    "        best_name, best_model, best_f1 = name, model, f1\n",
    "\n",
    "print(\"\\nBest:\", best_name, \"F1:\", round(best_f1, 4))"
   ]
  },
  {
   "cell_type": "markdown",
   "id": "9d6b96dc-4a6d-44ba-bd93-404ed02a8136",
   "metadata": {},
   "source": [
    "#  Save best model + text report"
   ]
  },
  {
   "cell_type": "code",
   "execution_count": 8,
   "id": "2e04e93e-34ab-497f-944f-3149d3ff043a",
   "metadata": {},
   "outputs": [
    {
     "name": "stdout",
     "output_type": "stream",
     "text": [
      "Saved model  -> ../models/db1/RandomForest_baseline.joblib\n",
      "Saved report -> ../data/outputs/db1/metrics.txt\n",
      "              precision    recall  f1-score   support\n",
      "\n",
      "           1       0.10      0.08      0.09      4828\n",
      "           2       0.28      0.37      0.32      4333\n",
      "           3       0.15      0.07      0.10      5160\n",
      "           4       0.20      0.16      0.18      4518\n",
      "           5       0.21      0.19      0.20      4289\n",
      "           6       0.20      0.14      0.16      4549\n",
      "           7       0.19      0.19      0.19      4636\n",
      "           8       0.12      0.12      0.12      4779\n",
      "           9       0.11      0.09      0.10      5329\n",
      "          10       0.17      0.17      0.17      4569\n",
      "          11       0.14      0.18      0.16      4820\n",
      "          12       0.16      0.20      0.18      4638\n",
      "          13       0.30      0.15      0.20      2999\n",
      "          14       0.20      0.11      0.15      2862\n",
      "          15       0.12      0.27      0.17      3015\n",
      "          16       0.19      0.14      0.16      3210\n",
      "          17       0.07      0.16      0.10      3580\n",
      "          18       0.36      0.29      0.32      1538\n",
      "          19       0.10      0.08      0.09      1660\n",
      "          20       0.10      0.07      0.08      1579\n",
      "          21       0.22      0.15      0.18      1669\n",
      "          22       0.27      0.34      0.30      1510\n",
      "          23       0.11      0.13      0.12      1850\n",
      "\n",
      "    accuracy                           0.16     81920\n",
      "   macro avg       0.18      0.17      0.17     81920\n",
      "weighted avg       0.17      0.16      0.16     81920\n",
      "\n"
     ]
    }
   ],
   "source": [
    "dump(best_model, MODELS_DIR / f\"{best_name}_baseline.joblib\")\n",
    "\n",
    "report = classification_report(yte, best_model.predict(Xte), zero_division=0)\n",
    "(DATA_OUTPUTS / \"metrics.txt\").write_text(\n",
    "    f\"Best={best_name}  F1={best_f1:.4f}\\n\\n{report}\\n\"\n",
    ")\n",
    "\n",
    "print(\"Saved model  ->\", MODELS_DIR / f\"{best_name}_baseline.joblib\")\n",
    "print(\"Saved report ->\", DATA_OUTPUTS / \"metrics.txt\")\n",
    "print(report)"
   ]
  },
  {
   "cell_type": "markdown",
   "id": "55c96afe-68c7-40a3-8383-1af3f3db2d68",
   "metadata": {},
   "source": [
    "# Confusion matrix figure"
   ]
  },
  {
   "cell_type": "code",
   "execution_count": 9,
   "id": "788f4601-f3d6-4e05-bb5e-3cdb346d045d",
   "metadata": {},
   "outputs": [
    {
     "data": {
      "image/png": "[encoded data removed]",
      "text/plain": [
       "<Figure size 800x800 with 2 Axes>"
      ]
     },
     "metadata": {},
     "output_type": "display_data"
    },
    {
     "name": "stdout",
     "output_type": "stream",
     "text": [
      "Saved: ../reports/db1/cm_RandomForest.png\n"
     ]
    }
   ],
   "source": [
    "cm = confusion_matrix(yte, best_model.predict(Xte))\n",
    "\n",
    "fig, ax = plt.subplots(figsize=(8,8))\n",
    "im = ax.imshow(cm, interpolation=\"nearest\")\n",
    "ax.set_title(f\"Confusion Matrix — {best_name}\")\n",
    "ax.set_xlabel(\"Predicted\"); ax.set_ylabel(\"True\")\n",
    "plt.colorbar(im, ax=ax)\n",
    "plt.tight_layout()\n",
    "\n",
    "fig_path = REPORTS_DIR / f\"cm_{best_name}.png\"\n",
    "plt.savefig(fig_path, dpi=150)\n",
    "plt.show()\n",
    "print(\"Saved:\", fig_path)"
   ]
  },
  {
   "cell_type": "code",
   "execution_count": null,
   "id": "5ca1ea45-77dc-43c2-8975-9b88bf8e780a",
   "metadata": {},
   "outputs": [],
   "source": []
  }
 ],
 "metadata": {
  "kernelspec": {
   "display_name": "Python 3 (ipykernel)",
   "language": "python",
   "name": "python3"
  },
  "language_info": {
   "codemirror_mode": {
    "name": "ipython",
    "version": 3
   },
   "file_extension": ".py",
   "mimetype": "text/x-python",
   "name": "python",
   "nbconvert_exporter": "python",
   "pygments_lexer": "ipython3",
   "version": "3.10.18"
  }
 },
 "nbformat": 4,
 "nbformat_minor": 5
}
