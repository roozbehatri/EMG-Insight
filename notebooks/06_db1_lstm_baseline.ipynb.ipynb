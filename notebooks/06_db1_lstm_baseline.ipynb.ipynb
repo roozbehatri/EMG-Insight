{
 "cells": [
  {
   "cell_type": "code",
   "execution_count": 1,
   "id": "28613af1-ca92-48b1-acba-fd3c6dc5c4be",
   "metadata": {},
   "outputs": [
    {
     "data": {
      "text/plain": [
       "device(type='cpu')"
      ]
     },
     "execution_count": 1,
     "metadata": {},
     "output_type": "execute_result"
    }
   ],
   "source": [
    "from pathlib import Path\n",
    "import numpy as np\n",
    "import torch\n",
    "from torch import nn\n",
    "from torch.utils.data import Dataset, DataLoader\n",
    "from sklearn.metrics import accuracy_score, f1_score, classification_report, confusion_matrix\n",
    "import matplotlib.pyplot as plt\n",
    "\n",
    "ROOT = Path(\"..\")\n",
    "DATA_PROCESSED = ROOT / \"data\" / \"processed\" / \"db1\"\n",
    "MODELS_DIR     = ROOT / \"models\" / \"db1\"\n",
    "REPORTS_DIR    = ROOT / \"reports\" / \"db1\"\n",
    "for p in [MODELS_DIR, REPORTS_DIR]:\n",
    "    p.mkdir(parents=True, exist_ok=True)\n",
    "\n",
    "DEVICE = torch.device(\"cuda\" if torch.cuda.is_available() else \"cpu\")\n",
    "DEVICE"
   ]
  },
  {
   "cell_type": "code",
   "execution_count": 2,
   "id": "58cc9a2b-0a90-45dc-a10e-30f1a7b92621",
   "metadata": {},
   "outputs": [
    {
     "name": "stdout",
     "output_type": "stream",
     "text": [
      "Train: (312643, 50, 10) Val: (93436, 50, 10) Test: (93476, 50, 10) classes: 23\n",
      "train classes: 23 min/max per class: 400 400\n",
      "val classes: 23 min/max per class: 100 100\n",
      "test classes: 23 min/max per class: 100 100\n",
      "Train: (9200, 50, 10) Val: (2300, 50, 10) Test: (2300, 50, 10) classes: 23\n"
     ]
    }
   ],
   "source": [
    "# --- Load as before ---\n",
    "train_npz = DATA_PROCESSED / \"dl_train_db1_raw.npz\"\n",
    "val_npz   = DATA_PROCESSED / \"dl_val_db1_raw.npz\"\n",
    "test_npz  = DATA_PROCESSED / \"dl_test_db1_raw.npz\"\n",
    "\n",
    "ztr = np.load(train_npz, allow_pickle=True)\n",
    "zva = np.load(val_npz,   allow_pickle=True)\n",
    "zte = np.load(test_npz,  allow_pickle=True)\n",
    "\n",
    "Xtr, ytr = ztr[\"X\"], ztr[\"y\"]\n",
    "Xva, yva = zva[\"X\"], zva[\"y\"]\n",
    "Xte, yte = zte[\"X\"], zte[\"y\"]\n",
    "idx_to_label = ztr[\"idx_to_label\"]\n",
    "n_classes = len(idx_to_label)\n",
    "print(\"Train:\", Xtr.shape, \"Val:\", Xva.shape, \"Test:\", Xte.shape, \"classes:\", n_classes)\n",
    "\n",
    "# # --- Subsample for CPU demo ---\n",
    "# # choose a fraction or a fixed number per split\n",
    "# N_train, N_val, N_test = 2000, 500, 500   # adjust as needed\n",
    "\n",
    "# rng = np.random.default_rng(seed=0)  # reproducible\n",
    "# train_idx = rng.choice(len(Xtr), size=min(N_train, len(Xtr)), replace=False)\n",
    "# val_idx   = rng.choice(len(Xva), size=min(N_val, len(Xva)), replace=False)\n",
    "# test_idx  = rng.choice(len(Xte), size=min(N_test, len(Xte)), replace=False)\n",
    "\n",
    "# Xtr, ytr = Xtr[train_idx], ytr[train_idx]\n",
    "# Xva, yva = Xva[val_idx], yva[val_idx]\n",
    "# Xte, yte = Xte[test_idx], yte[test_idx]\n",
    "\n",
    "def stratified_cap(X, y, per_class=200, seed=0):\n",
    "    rng = np.random.default_rng(seed)\n",
    "    keep_idx = []\n",
    "    for c in np.unique(y):\n",
    "        idx = np.where(y == c)[0]\n",
    "        if len(idx) == 0: \n",
    "            continue\n",
    "        take = min(per_class, len(idx))\n",
    "        keep_idx.extend(rng.choice(idx, size=take, replace=False))\n",
    "    keep_idx = np.array(keep_idx)\n",
    "    return X[keep_idx], y[keep_idx]\n",
    "\n",
    "# after loading NPZs:\n",
    "Xtr, ytr = stratified_cap(Xtr, ytr, per_class=400, seed=0)\n",
    "Xva, yva = stratified_cap(Xva, yva, per_class=100, seed=1)\n",
    "Xte, yte = stratified_cap(Xte, yte, per_class=100, seed=2)\n",
    "\n",
    "# sanity: show class counts\n",
    "for name, yv in [(\"train\", ytr), (\"val\", yva), (\"test\", yte)]:\n",
    "    vals, cnts = np.unique(yv, return_counts=True)\n",
    "    print(name, \"classes:\", len(vals), \"min/max per class:\", cnts.min(), cnts.max())\n",
    "    \n",
    "\n",
    "print(\"Train:\", Xtr.shape, \"Val:\", Xva.shape, \"Test:\", Xte.shape, \"classes:\", n_classes)"
   ]
  },
  {
   "cell_type": "code",
   "execution_count": 3,
   "id": "abe21168-ac76-4de5-ba77-7d27a1c53fe2",
   "metadata": {},
   "outputs": [
    {
     "data": {
      "text/plain": [
       "torch.Size([128, 50, 10])"
      ]
     },
     "execution_count": 3,
     "metadata": {},
     "output_type": "execute_result"
    }
   ],
   "source": [
    "class EMGSeqDataset(Dataset):\n",
    "    def __init__(self, X, y):\n",
    "        self.X = X.astype(np.float32)    # (N, T, C)\n",
    "        self.y = y.astype(np.int64)\n",
    "    def __len__(self): return self.X.shape[0]\n",
    "    def __getitem__(self, i):\n",
    "        return torch.from_numpy(self.X[i]), torch.tensor(self.y[i], dtype=torch.long)\n",
    "\n",
    "BATCH_SIZE = 128  # shrink if memory bound\n",
    "train_ds = EMGSeqDataset(Xtr, ytr)\n",
    "val_ds   = EMGSeqDataset(Xva, yva)\n",
    "test_ds  = EMGSeqDataset(Xte, yte)\n",
    "\n",
    "train_loader = DataLoader(train_ds, batch_size=BATCH_SIZE, shuffle=True,  num_workers=0)\n",
    "val_loader   = DataLoader(val_ds,   batch_size=BATCH_SIZE, shuffle=False, num_workers=0)\n",
    "test_loader  = DataLoader(test_ds,  batch_size=BATCH_SIZE, shuffle=False, num_workers=0)\n",
    "\n",
    "xb, yb = next(iter(train_loader))\n",
    "xb.shape  # expect (B, T, C)"
   ]
  },
  {
   "cell_type": "code",
   "execution_count": 4,
   "id": "cf5e3165-1c3b-4f6e-8120-4e8eec3ff181",
   "metadata": {},
   "outputs": [
    {
     "data": {
      "text/plain": [
       "610839"
      ]
     },
     "execution_count": 4,
     "metadata": {},
     "output_type": "execute_result"
    }
   ],
   "source": [
    "class LSTMClassifier(nn.Module):\n",
    "    def __init__(self, n_features, n_classes, hidden=128, layers=2, bidir=True, dropout=0.2):\n",
    "        super().__init__()\n",
    "        self.bidir = bidir\n",
    "        self.lstm = nn.LSTM(\n",
    "            input_size=n_features, hidden_size=hidden, num_layers=layers,\n",
    "            batch_first=True, dropout=(dropout if layers > 1 else 0.0), bidirectional=bidir\n",
    "        )\n",
    "        out_dim = hidden * (2 if bidir else 1)\n",
    "        self.head = nn.Sequential(\n",
    "            nn.LayerNorm(out_dim),\n",
    "            nn.Linear(out_dim, out_dim), nn.ReLU(),\n",
    "            nn.Dropout(dropout),\n",
    "            nn.Linear(out_dim, n_classes),\n",
    "        )\n",
    "\n",
    "    def forward(self, x):  # x: (B, T, C)\n",
    "        h, _ = self.lstm(x)        # (B, T, H*dirs)\n",
    "        # temporal aggregation — mean pooling is robust on short sequences\n",
    "        h_mean = h.mean(dim=1)     # (B, H*dirs)\n",
    "        return self.head(h_mean)\n",
    "\n",
    "n_features = Xtr.shape[2]\n",
    "model = LSTMClassifier(n_features=n_features, n_classes=n_classes, hidden=128, layers=2, bidir=True, dropout=0.3).to(DEVICE)\n",
    "sum(p.numel() for p in model.parameters())  # param count"
   ]
  },
  {
   "cell_type": "code",
   "execution_count": 5,
   "id": "9a24f900-3874-4800-a980-9d361ed85762",
   "metadata": {},
   "outputs": [],
   "source": [
    "# Class weights from training distribution\n",
    "vals, cnts = np.unique(ytr, return_counts=True)\n",
    "class_count = np.zeros(n_classes, dtype=np.float32)\n",
    "class_count[vals] = cnts\n",
    "weights = 1.0 / (class_count + 1e-6)\n",
    "weights = torch.tensor(weights / weights.mean(), dtype=torch.float32, device=DEVICE)\n",
    "\n",
    "criterion = nn.CrossEntropyLoss(weight=weights)  # or nn.CrossEntropyLoss() without weights\n",
    "optimizer = torch.optim.AdamW(model.parameters(), lr=1e-3, weight_decay=1e-3)\n",
    "\n",
    "def run_epoch(model, loader, optimizer=None):\n",
    "    train_mode = optimizer is not None\n",
    "    model.train(train_mode)\n",
    "    total_loss, y_true, y_pred = 0.0, [], []\n",
    "    for xb, yb in loader:\n",
    "        xb, yb = xb.to(DEVICE), yb.to(DEVICE)\n",
    "        logits = model(xb)\n",
    "        loss = criterion(logits, yb)\n",
    "\n",
    "        if train_mode:\n",
    "            optimizer.zero_grad(set_to_none=True)\n",
    "            loss.backward()\n",
    "            optimizer.step()\n",
    "\n",
    "        total_loss += loss.item() * xb.size(0)\n",
    "        y_true.append(yb.detach().cpu().numpy())\n",
    "        y_pred.append(logits.argmax(dim=1).detach().cpu().numpy())\n",
    "\n",
    "    y_true = np.concatenate(y_true)\n",
    "    y_pred = np.concatenate(y_pred)\n",
    "    acc = accuracy_score(y_true, y_pred)\n",
    "    f1  = f1_score(y_true, y_pred, average=\"macro\")\n",
    "    return total_loss / len(loader.dataset), acc, f1"
   ]
  },
  {
   "cell_type": "code",
   "execution_count": 6,
   "id": "daec3e4b-96f1-4ef3-aab5-9e824c9caa2e",
   "metadata": {},
   "outputs": [
    {
     "name": "stdout",
     "output_type": "stream",
     "text": [
      "Epoch 01 | train: loss 2.8805 acc 0.141 f1 0.123 | val: loss 2.8116 acc 0.158 f1 0.133\n",
      "Epoch 02 | train: loss 2.7398 acc 0.181 f1 0.165 | val: loss 2.7965 acc 0.166 f1 0.141\n",
      "Epoch 03 | train: loss 2.6801 acc 0.202 f1 0.186 | val: loss 2.7748 acc 0.190 f1 0.159\n",
      "Epoch 04 | train: loss 2.6267 acc 0.209 f1 0.196 | val: loss 2.7997 acc 0.182 f1 0.160\n",
      "Epoch 05 | train: loss 2.5698 acc 0.228 f1 0.216 | val: loss 2.7714 acc 0.182 f1 0.156\n",
      "Epoch 06 | train: loss 2.5156 acc 0.244 f1 0.233 | val: loss 2.7756 acc 0.178 f1 0.164\n",
      "Epoch 07 | train: loss 2.4777 acc 0.259 f1 0.249 | val: loss 2.7956 acc 0.183 f1 0.161\n",
      "Epoch 08 | train: loss 2.4224 acc 0.269 f1 0.259 | val: loss 2.8542 acc 0.184 f1 0.168\n",
      "Epoch 09 | train: loss 2.3741 acc 0.279 f1 0.269 | val: loss 2.8502 acc 0.187 f1 0.164\n",
      "Epoch 10 | train: loss 2.3214 acc 0.295 f1 0.287 | val: loss 2.8626 acc 0.191 f1 0.175\n",
      "Epoch 11 | train: loss 2.2643 acc 0.313 f1 0.305 | val: loss 2.9832 acc 0.179 f1 0.162\n",
      "Epoch 12 | train: loss 2.2011 acc 0.331 f1 0.323 | val: loss 2.9549 acc 0.181 f1 0.162\n",
      "Epoch 13 | train: loss 2.1485 acc 0.350 f1 0.343 | val: loss 2.9544 acc 0.171 f1 0.163\n",
      "Epoch 14 | train: loss 2.0967 acc 0.363 f1 0.357 | val: loss 3.1077 acc 0.177 f1 0.168\n",
      "Epoch 15 | train: loss 2.0143 acc 0.383 f1 0.377 | val: loss 3.1191 acc 0.174 f1 0.164\n",
      "Early stopping.\n"
     ]
    }
   ],
   "source": [
    "EPOCHS = 25\n",
    "PATIENCE = 5\n",
    "best_val_f1, best_state = -1.0, None\n",
    "no_improve = 0\n",
    "hist = []\n",
    "\n",
    "for epoch in range(1, EPOCHS+1):\n",
    "    tr_loss, tr_acc, tr_f1 = run_epoch(model, train_loader, optimizer)\n",
    "    va_loss, va_acc, va_f1 = run_epoch(model, val_loader,   optimizer=None)\n",
    "    hist.append((epoch, tr_loss, tr_acc, tr_f1, va_loss, va_acc, va_f1))\n",
    "    print(f\"Epoch {epoch:02d} | train: loss {tr_loss:.4f} acc {tr_acc:.3f} f1 {tr_f1:.3f} | \"\n",
    "          f\"val: loss {va_loss:.4f} acc {va_acc:.3f} f1 {va_f1:.3f}\")\n",
    "\n",
    "    if va_f1 > best_val_f1:\n",
    "        best_val_f1 = va_f1\n",
    "        best_state = {k: v.detach().cpu().clone() for k, v in model.state_dict().items()}\n",
    "        no_improve = 0\n",
    "    else:\n",
    "        no_improve += 1\n",
    "        if no_improve >= PATIENCE:\n",
    "            print(\"Early stopping.\")\n",
    "            break\n",
    "\n",
    "if best_state is not None:\n",
    "    model.load_state_dict(best_state)"
   ]
  },
  {
   "cell_type": "code",
   "execution_count": 7,
   "id": "fdacfe15-8de7-4dc8-901e-4181c18f998b",
   "metadata": {},
   "outputs": [
    {
     "name": "stdout",
     "output_type": "stream",
     "text": [
      "Test — loss 2.9753  acc 0.159  macro-F1 0.148\n",
      "              precision    recall  f1-score   support\n",
      "\n",
      "           0       0.03      0.02      0.02       100\n",
      "           1       0.19      0.31      0.23       100\n",
      "           2       0.08      0.04      0.05       100\n",
      "           3       0.21      0.14      0.17       100\n",
      "           4       0.27      0.15      0.19       100\n",
      "           5       0.20      0.05      0.08       100\n",
      "           6       0.16      0.18      0.17       100\n",
      "           7       0.06      0.08      0.07       100\n",
      "           8       0.04      0.02      0.03       100\n",
      "           9       0.06      0.04      0.05       100\n",
      "          10       0.08      0.05      0.06       100\n",
      "          11       0.06      0.08      0.07       100\n",
      "          12       0.16      0.12      0.14       100\n",
      "          13       0.23      0.11      0.15       100\n",
      "          14       0.19      0.28      0.22       100\n",
      "          15       0.10      0.07      0.08       100\n",
      "          16       0.07      0.13      0.09       100\n",
      "          17       0.20      0.52      0.29       100\n",
      "          18       0.17      0.16      0.17       100\n",
      "          19       0.29      0.29      0.29       100\n",
      "          20       0.24      0.33      0.28       100\n",
      "          21       0.25      0.23      0.24       100\n",
      "          22       0.26      0.26      0.26       100\n",
      "\n",
      "    accuracy                           0.16      2300\n",
      "   macro avg       0.16      0.16      0.15      2300\n",
      "weighted avg       0.16      0.16      0.15      2300\n",
      "\n"
     ]
    }
   ],
   "source": [
    "te_loss, te_acc, te_f1 = run_epoch(model, test_loader, optimizer=None)\n",
    "print(f\"Test — loss {te_loss:.4f}  acc {te_acc:.3f}  macro-F1 {te_f1:.3f}\")\n",
    "\n",
    "# Full report\n",
    "y_true_all, y_pred_all = [], []\n",
    "model.eval()\n",
    "with torch.no_grad():\n",
    "    for xb, yb in test_loader:\n",
    "        logits = model(xb.to(DEVICE)).cpu().numpy()\n",
    "        y_pred_all.append(np.argmax(logits, axis=1))\n",
    "        y_true_all.append(yb.numpy())\n",
    "y_true_all = np.concatenate(y_true_all)\n",
    "y_pred_all = np.concatenate(y_pred_all)\n",
    "\n",
    "print(classification_report(y_true_all, y_pred_all, zero_division=0))"
   ]
  },
  {
   "cell_type": "code",
   "execution_count": 8,
   "id": "bb23e421-427c-4063-99ea-e38ced19883d",
   "metadata": {},
   "outputs": [
    {
     "data": {
      "image/png": "[encoded data removed]",
      "text/plain": [
       "<Figure size 800x800 with 2 Axes>"
      ]
     },
     "metadata": {},
     "output_type": "display_data"
    },
    {
     "name": "stdout",
     "output_type": "stream",
     "text": [
      "Saved: ../reports/db1/cm_lstm.png\n"
     ]
    }
   ],
   "source": [
    "cm = confusion_matrix(y_true_all, y_pred_all)\n",
    "\n",
    "fig, ax = plt.subplots(figsize=(8,8))\n",
    "im = ax.imshow(cm, interpolation=\"nearest\")\n",
    "ax.set_title(\"Confusion Matrix — BiLSTM\")\n",
    "ax.set_xlabel(\"Predicted\"); ax.set_ylabel(\"True\")\n",
    "plt.colorbar(im, ax=ax)\n",
    "plt.tight_layout()\n",
    "\n",
    "fig_path = REPORTS_DIR / \"cm_lstm.png\"\n",
    "plt.savefig(fig_path, dpi=150)\n",
    "plt.show()\n",
    "print(\"Saved:\", fig_path)"
   ]
  },
  {
   "cell_type": "code",
   "execution_count": 9,
   "id": "65b1f58d-727d-46c2-8682-c84dedb14dac",
   "metadata": {},
   "outputs": [
    {
     "name": "stdout",
     "output_type": "stream",
     "text": [
      "Saved model to: ../models/db1/lstm_db1.pt\n",
      "Saved meta   to: ../models/db1/lstm_db1_meta.npz\n"
     ]
    }
   ],
   "source": [
    "ckpt_path = MODELS_DIR / \"lstm_db1.pt\"\n",
    "meta_path = MODELS_DIR / \"lstm_db1_meta.npz\"\n",
    "\n",
    "torch.save(model.state_dict(), ckpt_path)\n",
    "np.savez_compressed(meta_path, n_features=n_features, n_classes=n_classes)\n",
    "\n",
    "print(\"Saved model to:\", ckpt_path)\n",
    "print(\"Saved meta   to:\", meta_path)"
   ]
  },
  {
   "cell_type": "code",
   "execution_count": null,
   "id": "ece1b2d1-4969-4736-ad27-9582d0a9391b",
   "metadata": {},
   "outputs": [],
   "source": []
  }
 ],
 "metadata": {
  "kernelspec": {
   "display_name": "Python 3 (ipykernel)",
   "language": "python",
   "name": "python3"
  },
  "language_info": {
   "codemirror_mode": {
    "name": "ipython",
    "version": 3
   },
   "file_extension": ".py",
   "mimetype": "text/x-python",
   "name": "python",
   "nbconvert_exporter": "python",
   "pygments_lexer": "ipython3",
   "version": "3.10.18"
  }
 },
 "nbformat": 4,
 "nbformat_minor": 5
}
