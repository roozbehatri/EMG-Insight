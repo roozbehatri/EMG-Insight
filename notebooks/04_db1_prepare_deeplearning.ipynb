{
 "cells": [
  {
   "cell_type": "code",
   "execution_count": 10,
   "id": "a09ac6d1-8c6e-4c7b-b45b-10e9934f33c6",
   "metadata": {},
   "outputs": [
    {
     "name": "stdout",
     "output_type": "stream",
     "text": [
      "RAW: ../data/ninapro/db1/raw\n"
     ]
    }
   ],
   "source": [
    "from pathlib import Path\n",
    "import numpy as np\n",
    "from tqdm import tqdm\n",
    "\n",
    "import sys\n",
    "sys.path.append('../src/')\n",
    "from emg import (\n",
    "    read_mat, pick_key, ensure_samples_channels,\n",
    "    bandpass_filter, rectify_and_zscore, sliding_window,\n",
    "    subject_id_from_path\n",
    ")\n",
    "\n",
    "# project paths\n",
    "ROOT = Path(\"..\")\n",
    "DATA_RAW       = ROOT / \"data\" / \"ninapro\" / \"db1\" / \"raw\"\n",
    "DATA_PROCESSED = ROOT / \"data\" / \"processed\" / \"db1\"\n",
    "DATA_OUTPUTS   = ROOT / \"data\" / \"outputs\"   / \"db1\"\n",
    "for p in [DATA_PROCESSED, DATA_OUTPUTS]:\n",
    "    p.mkdir(parents=True, exist_ok=True)\n",
    "\n",
    "print(\"RAW:\", DATA_RAW)"
   ]
  },
  {
   "cell_type": "code",
   "execution_count": 11,
   "id": "da3721e2-341b-440c-8935-8731194ca3f0",
   "metadata": {},
   "outputs": [],
   "source": [
    "# Ninapro DB1 parameters\n",
    "FS = 100.0  # Hz (DB1 envelope sampling rate)\n",
    "\n",
    "# Windowing for deep learning inputs\n",
    "WINDOW_S   = 0.5   # 0.5s → 50 samples\n",
    "STEP_S     = 0.1   # hop\n",
    "MIN_FRAC   = 0.7   # label purity within a window (drop mixed windows)\n",
    "DROP_REST  = True  # drop label 0 windows\n",
    "\n",
    "# Optional: constrain to a subset of exercises/classes to start simple\n",
    "FILTER_MIN_SAMPLES_PER_CLASS = 1000  # drop rare classes after windowing; set None to disable\n",
    "\n",
    "# Subject split: pick held-out test subjects (by ID parsed from filenames S{ID}_...)\n",
    "TEST_SUBJECT_COUNT = 5  # keep 2 subjects for test; rest for train/val\n",
    "\n",
    "np.random.seed(0)"
   ]
  },
  {
   "cell_type": "code",
   "execution_count": 12,
   "id": "92247820-80d5-4d5a-90f7-3fcdfcf4362f",
   "metadata": {},
   "outputs": [
    {
     "name": "stdout",
     "output_type": "stream",
     "text": [
      "Found .mat files: 81\n"
     ]
    },
    {
     "data": {
      "text/plain": [
       "[PosixPath('../data/ninapro/db1/raw/s1/S1_A1_E1.mat'),\n",
       " PosixPath('../data/ninapro/db1/raw/s1/S1_A1_E2.mat'),\n",
       " PosixPath('../data/ninapro/db1/raw/s1/S1_A1_E3.mat'),\n",
       " PosixPath('../data/ninapro/db1/raw/s10/S10_A1_E1.mat'),\n",
       " PosixPath('../data/ninapro/db1/raw/s10/S10_A1_E2.mat')]"
      ]
     },
     "execution_count": 12,
     "metadata": {},
     "output_type": "execute_result"
    }
   ],
   "source": [
    "mats = sorted(DATA_RAW.rglob(\"*.mat\"))\n",
    "print(f\"Found .mat files: {len(mats)}\")\n",
    "assert mats, \"No .mat files found under data/raw/ninapro/db1\"\n",
    "mats[:5]"
   ]
  },
  {
   "cell_type": "code",
   "execution_count": 13,
   "id": "81cf9684-866a-4e76-bbc0-52c46f71fcf4",
   "metadata": {},
   "outputs": [],
   "source": [
    "import numpy as np\n",
    "\n",
    "def sliding_window_pure(x, y, *, window_s, step_s, fs, min_frac=0.7):\n",
    "    win, step = int(window_s * fs), int(step_s * fs)\n",
    "    Xw, Yw = [], []\n",
    "    for start in range(0, len(x) - win + 1, step):\n",
    "        seg = x[start:start + win]\n",
    "        lab = y[start:start + win]\n",
    "\n",
    "        vals, counts = np.unique(lab, return_counts=True)\n",
    "        nonzero_mask = (vals != 0)\n",
    "        if not np.any(nonzero_mask):\n",
    "            # window is all rest\n",
    "            maj_lab, frac = 0, counts.max() / win\n",
    "        else:\n",
    "            vals_nz, counts_nz = vals[nonzero_mask], counts[nonzero_mask]\n",
    "            maj_idx = np.argmax(counts_nz)\n",
    "            maj_lab = vals_nz[maj_idx]\n",
    "            frac = counts_nz[maj_idx] / win\n",
    "\n",
    "        if frac < min_frac:\n",
    "            continue\n",
    "\n",
    "        Xw.append(seg)\n",
    "        Yw.append(maj_lab)\n",
    "    Xw = np.stack(Xw) if Xw else np.empty((0, win, x.shape[1]), dtype=np.float32)\n",
    "    Yw = np.array(Yw, dtype=np.int32)\n",
    "    return Xw, Yw"
   ]
  },
  {
   "cell_type": "code",
   "execution_count": 14,
   "id": "206bca38-7f9c-4b14-bd86-4fc23143d27d",
   "metadata": {},
   "outputs": [
    {
     "name": "stderr",
     "output_type": "stream",
     "text": [
      "Windowing: 100%|███████████████████████████████████████████████████████████████████████████████████████████████████████████████████████████████████████████████| 81/81 [00:22<00:00,  3.52it/s]\n"
     ]
    },
    {
     "name": "stdout",
     "output_type": "stream",
     "text": [
      "Raw windows: (1159472, 50, 10) labels: (1159472,) subjects: (1159472,)\n"
     ]
    }
   ],
   "source": [
    "X_list, y_list, subj_list = [], [], []\n",
    "\n",
    "for p in tqdm(mats, desc=\"Windowing\"):\n",
    "    d   = read_mat(p)\n",
    "    emg = ensure_samples_channels(pick_key(d, \"emg\"))\n",
    "    lab = np.asarray(pick_key(d, \"restimulus\"), dtype=np.int32)\n",
    "\n",
    "    # Preprocess for DL: bandpass + zscore (keep as raw-ish normalized sequences)\n",
    "    x_p = rectify_and_zscore(bandpass_filter(emg, fs=FS, low=1.0, high=40.0))\n",
    "\n",
    "    # Window with label purity\n",
    "    Xw, Yw = sliding_window_pure(x_p, lab, window_s=WINDOW_S, step_s=STEP_S, fs=FS, min_frac=MIN_FRAC)\n",
    "    if Xw.shape[0] == 0:\n",
    "        continue\n",
    "\n",
    "    sid = subject_id_from_path(p)\n",
    "    X_list.append(Xw)\n",
    "    y_list.append(Yw)\n",
    "    subj_list.append(np.full(len(Yw), sid, dtype=np.int32))\n",
    "\n",
    "# Concatenate across files\n",
    "X_raw = np.concatenate(X_list, axis=0) if X_list else np.empty((0,))\n",
    "y     = np.concatenate(y_list, axis=0) if y_list else np.empty((0,), dtype=np.int32)\n",
    "subj  = np.concatenate(subj_list, axis=0) if subj_list else np.empty((0,), dtype=np.int32)\n",
    "\n",
    "print(\"Raw windows:\", X_raw.shape, \"labels:\", y.shape, \"subjects:\", subj.shape)"
   ]
  },
  {
   "cell_type": "markdown",
   "id": "d9c435fa-cd25-4dae-9ed8-cf6e62b6eca6",
   "metadata": {},
   "source": [
    "# Optionally drop rest & rare classes"
   ]
  },
  {
   "cell_type": "code",
   "execution_count": 15,
   "id": "f094716f-9ff4-4a43-8e3d-71ccd845eb82",
   "metadata": {},
   "outputs": [
    {
     "name": "stdout",
     "output_type": "stream",
     "text": [
      "After filtering: (499555, 50, 10) (499555,) 23 classes\n"
     ]
    }
   ],
   "source": [
    "mask = np.ones_like(y, dtype=bool)\n",
    "if DROP_REST:\n",
    "    mask &= (y != 0)\n",
    "\n",
    "Xr, yr, subjr = X_raw[mask], y[mask], subj[mask]\n",
    "\n",
    "if FILTER_MIN_SAMPLES_PER_CLASS is not None:\n",
    "    vals, counts = np.unique(yr, return_counts=True)\n",
    "    keep_classes = set(vals[counts >= FILTER_MIN_SAMPLES_PER_CLASS])\n",
    "    keep_mask = np.isin(yr, list(keep_classes))\n",
    "    Xr, yr, subjr = Xr[keep_mask], yr[keep_mask], subjr[keep_mask]\n",
    "\n",
    "print(\"After filtering:\", Xr.shape, yr.shape, np.unique(yr).size, \"classes\")"
   ]
  },
  {
   "cell_type": "code",
   "execution_count": 16,
   "id": "e32af05c-21d1-4117-b5c2-e69bc80d11af",
   "metadata": {},
   "outputs": [
    {
     "name": "stdout",
     "output_type": "stream",
     "text": [
      "Test subjects: [np.int32(23), np.int32(24), np.int32(25), np.int32(26), np.int32(27)]\n",
      "Train/Val subjects: [np.int32(1), np.int32(2), np.int32(3), np.int32(4), np.int32(5), np.int32(6), np.int32(7), np.int32(8), np.int32(9), np.int32(10)] … total: 22\n",
      "Train subjects: [np.int32(1), np.int32(2), np.int32(3), np.int32(4), np.int32(5), np.int32(6), np.int32(7), np.int32(8), np.int32(9), np.int32(10), np.int32(11), np.int32(12), np.int32(13), np.int32(14), np.int32(15), np.int32(16), np.int32(17)]\n",
      "Val subjects: [np.int32(18), np.int32(19), np.int32(20), np.int32(21), np.int32(22)]\n",
      "Train: (312643, 50, 10) Val: (93436, 50, 10) Test: (93476, 50, 10)\n"
     ]
    }
   ],
   "source": [
    "unique_subj = sorted(np.unique(subjr))\n",
    "# hold out last TEST_SUBJECT_COUNT subjects\n",
    "test_subj = set(unique_subj[-TEST_SUBJECT_COUNT:])\n",
    "trainval_subj = [s for s in unique_subj if s not in test_subj]\n",
    "\n",
    "print(\"Test subjects:\", sorted(test_subj))\n",
    "print(\"Train/Val subjects:\", trainval_subj[:10], \"… total:\", len(trainval_subj))\n",
    "\n",
    "# split train/val by subject too (e.g., 80/20 of the remaining subjects)\n",
    "split = max(1, int(0.8 * len(trainval_subj)))\n",
    "train_subj = set(trainval_subj[:split])\n",
    "val_subj   = set(trainval_subj[split:])\n",
    "\n",
    "print(\"Train subjects:\", sorted(train_subj))\n",
    "print(\"Val subjects:\", sorted(val_subj))\n",
    "\n",
    "tr_idx = np.isin(subjr, list(train_subj))\n",
    "va_idx = np.isin(subjr, list(val_subj))\n",
    "te_idx = np.isin(subjr, list(test_subj))\n",
    "\n",
    "X_train, y_train, s_train = Xr[tr_idx], yr[tr_idx], subjr[tr_idx]\n",
    "X_val,   y_val,   s_val   = Xr[va_idx], yr[va_idx], subjr[va_idx]\n",
    "X_test,  y_test,  s_test  = Xr[te_idx], yr[te_idx], subjr[te_idx]\n",
    "\n",
    "print(\"Train:\", X_train.shape, \"Val:\", X_val.shape, \"Test:\", X_test.shape)"
   ]
  },
  {
   "cell_type": "code",
   "execution_count": 17,
   "id": "c096cdae-3a93-4923-955e-1c67bb74c01c",
   "metadata": {},
   "outputs": [
    {
     "name": "stdout",
     "output_type": "stream",
     "text": [
      "Classes (original → idx) sample: [(np.int32(1), 0), (np.int32(2), 1), (np.int32(3), 2), (np.int32(4), 3), (np.int32(5), 4), (np.int32(6), 5), (np.int32(7), 6), (np.int32(8), 7), (np.int32(9), 8), (np.int32(10), 9)]\n",
      "N classes: 23\n",
      "Saved npz files to: ../data/processed/db1\n"
     ]
    }
   ],
   "source": [
    "# remap labels to 0..K-1 for NN convenience\n",
    "classes = sorted(np.unique(y_train))  # train classes define the map\n",
    "label_to_idx = {c:i for i,c in enumerate(classes)}\n",
    "idx_to_label = np.array(classes, dtype=np.int32)\n",
    "\n",
    "def remap(yv):\n",
    "    return np.vectorize(label_to_idx.get)(yv)\n",
    "\n",
    "y_train_m = remap(y_train)\n",
    "y_val_m   = remap(y_val)\n",
    "y_test_m  = remap(y_test)\n",
    "\n",
    "print(\"Classes (original → idx) sample:\", list(label_to_idx.items())[:10])\n",
    "print(\"N classes:\", len(classes))\n",
    "\n",
    "# save everything in NPZs (channel-first or channel-last? We'll keep time-first for now: (T,C))\n",
    "np.savez_compressed(DATA_PROCESSED / \"dl_train_db1_raw.npz\",\n",
    "                    X=X_train.astype(np.float32), y=y_train_m.astype(np.int64), subj=s_train.astype(np.int32),\n",
    "                    idx_to_label=idx_to_label)\n",
    "np.savez_compressed(DATA_PROCESSED / \"dl_val_db1_raw.npz\",\n",
    "                    X=X_val.astype(np.float32), y=y_val_m.astype(np.int64), subj=s_val.astype(np.int32),\n",
    "                    idx_to_label=idx_to_label)\n",
    "np.savez_compressed(DATA_PROCESSED / \"dl_test_db1_raw.npz\",\n",
    "                    X=X_test.astype(np.float32), y=y_test_m.astype(np.int64), subj=s_test.astype(np.int32),\n",
    "                    idx_to_label=idx_to_label)\n",
    "\n",
    "print(\"Saved npz files to:\", DATA_PROCESSED)"
   ]
  },
  {
   "cell_type": "code",
   "execution_count": 18,
   "id": "144514b7-cf64-4331-a1c6-7e9c127ce5d4",
   "metadata": {},
   "outputs": [
    {
     "name": "stdout",
     "output_type": "stream",
     "text": [
      "Train classes: (23, [(0, 18155), (1, 17564), (2, 18053), (3, 17026), (4, 17113), (5, 17362), (6, 17700), (7, 18155), (8, 17496), (9, 17478)])\n",
      "Val   classes: (23, [(0, 5327), (1, 5488), (2, 5370), (3, 5263), (4, 5212), (5, 5291), (6, 5353), (7, 5169), (8, 5085), (9, 5010)])\n",
      "Test  classes: (23, [(0, 5344), (1, 5323), (2, 5765), (3, 5254), (4, 4936), (5, 5062), (6, 5243), (7, 5466), (8, 5677), (9, 5050)])\n"
     ]
    },
    {
     "data": {
      "image/png": "[encoded data removed]",
      "text/plain": [
       "<Figure size 640x480 with 1 Axes>"
      ]
     },
     "metadata": {},
     "output_type": "display_data"
    }
   ],
   "source": [
    "import collections\n",
    "def dist(y):\n",
    "    cnt = collections.Counter(y.tolist())\n",
    "    return len(cnt), sorted(cnt.items())[:10]\n",
    "\n",
    "print(\"Train classes:\", dist(y_train_m))\n",
    "print(\"Val   classes:\", dist(y_val_m))\n",
    "print(\"Test  classes:\", dist(y_test_m))\n",
    "\n",
    "# peek one window\n",
    "import matplotlib.pyplot as plt\n",
    "if X_train.shape[0] > 0:\n",
    "    t = np.arange(X_train.shape[1]) / FS\n",
    "    ch = 0\n",
    "    plt.plot(t, X_train[0, :, ch])\n",
    "    plt.title(f\"Example window (class={y_train_m[0]})\")\n",
    "    plt.xlabel(\"Time (s)\"); plt.ylabel(\"norm rectified EMG\")\n",
    "    plt.show()"
   ]
  },
  {
   "cell_type": "code",
   "execution_count": null,
   "id": "95278434-528d-4e78-9919-76e98c9acef1",
   "metadata": {},
   "outputs": [],
   "source": []
  }
 ],
 "metadata": {
  "kernelspec": {
   "display_name": "Python 3 (ipykernel)",
   "language": "python",
   "name": "python3"
  },
  "language_info": {
   "codemirror_mode": {
    "name": "ipython",
    "version": 3
   },
   "file_extension": ".py",
   "mimetype": "text/x-python",
   "name": "python",
   "nbconvert_exporter": "python",
   "pygments_lexer": "ipython3",
   "version": "3.10.18"
  }
 },
 "nbformat": 4,
 "nbformat_minor": 5
}
